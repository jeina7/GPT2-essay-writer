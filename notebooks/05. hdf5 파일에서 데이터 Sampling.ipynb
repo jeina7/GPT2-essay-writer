{
 "cells": [
  {
   "cell_type": "markdown",
   "metadata": {},
   "source": [
    "# 05. hdf5 파일에서 데이터 Sampling\n",
    "- 작성 : 정민정 (https://github.com/jeina7)"
   ]
  },
  {
   "cell_type": "markdown",
   "metadata": {},
   "source": [
    "---\n",
    "- `hdf5`로 저장된 데이터셋을 batch로 추출하기 위한 `Sampler_crawled_data` 생성\n",
    "---"
   ]
  },
  {
   "cell_type": "code",
   "execution_count": 1,
   "metadata": {},
   "outputs": [],
   "source": [
    "import h5py\n",
    "\n",
    "file_path = './common/data/news_sample.hdf5'\n",
    "fi = h5py.File(file_path, 'r')"
   ]
  },
  {
   "cell_type": "code",
   "execution_count": 2,
   "metadata": {},
   "outputs": [
    {
     "data": {
      "text/plain": [
       "<KeysViewHDF5 ['category']>"
      ]
     },
     "execution_count": 2,
     "metadata": {},
     "output_type": "execute_result"
    }
   ],
   "source": [
    "fi.keys()"
   ]
  },
  {
   "cell_type": "code",
   "execution_count": 3,
   "metadata": {},
   "outputs": [
    {
     "data": {
      "text/plain": [
       "<HDF5 group \"/category\" (54 members)>"
      ]
     },
     "execution_count": 3,
     "metadata": {},
     "output_type": "execute_result"
    }
   ],
   "source": [
    "fi['category']"
   ]
  },
  {
   "cell_type": "code",
   "execution_count": 8,
   "metadata": {},
   "outputs": [
    {
     "name": "stdout",
     "output_type": "stream",
     "text": [
      "(825,) (273,)\n",
      "(444,) (295,)\n",
      "(325,) (341,)\n",
      "(781,) (420,)\n",
      "(404,) (339,)\n",
      "(461,) (633,)\n",
      "(317,) (286,)\n",
      "(540,) (414,)\n",
      "(301,) (308,)\n",
      "(267,) (292,)\n",
      "(366,) (931,)\n",
      "(288,) (304,)\n",
      "(378,) (430,)\n",
      "(400,) (468,)\n",
      "(1240,) (1309,)\n",
      "(445,) (257,)\n",
      "(466,) (455,)\n",
      "(607,) (483,)\n",
      "(488,) (375,)\n",
      "(316,) (282,)\n",
      "(468,) (670,)\n",
      "(441,) (554,)\n",
      "(571,) (409,)\n",
      "(493,) (320,)\n",
      "(518,) (329,)\n",
      "(477,) (580,)\n",
      "(518,) (287,)\n",
      "(384,) (525,)\n",
      "(561,) (639,)\n",
      "(425,) (647,)\n",
      "(572,) (416,)\n",
      "(1765,) (266,)\n",
      "(498,) (268,)\n",
      "(264,) (668,)\n",
      "(266,) (264,)\n",
      "(275,) (418,)\n",
      "(717,) (275,)\n",
      "(774,) (571,)\n",
      "(940,) (633,)\n",
      "(270,) (337,)\n",
      "(321,) (694,)\n",
      "(979,) (284,)\n",
      "(369,) (461,)\n",
      "(680,) (371,)\n",
      "(595,) (270,)\n",
      "(466,) (444,)\n",
      "(504,) (406,)\n",
      "(401,) (784,)\n",
      "(614,) (356,)\n",
      "(281,) (383,)\n",
      "(414,) (382,)\n",
      "(382,) (340,)\n",
      "(261,) (360,)\n",
      "(423,) (488,)\n"
     ]
    }
   ],
   "source": [
    "for key in fi['category'].keys():\n",
    "    print(fi['category'][key][0].shape, fi['category'][key][1].shape)"
   ]
  },
  {
   "cell_type": "code",
   "execution_count": 21,
   "metadata": {},
   "outputs": [
    {
     "data": {
      "text/plain": [
       "'세계 각국 한인 여성 리더들이 모이는제14회 세계한민족여성네트워크: a s al 행사가 26일 개막했다. 행사는 여성가족부, 경상북도, 구미시, 세계한민족여성재단 등이 주최하며 29일까지 경상북도 구미시에서 열린다. 올해제14회 세계한민족여성네트워크에는 국내 280여 명, 해외 220 여명 등 세계 36개국 500여 명이 참가한다. 경력단절 예방 및 일· 가정 양립을 위한 글로벌 파트너십 강화를 주제로 국내외 경험과 지혜를 모아 실질적인 정책을 논의한다. 남성들의 육아휴직 활성화를 위한 아빠의 달 제도, 직장어린이집과 아이돌보미서비스, 육아휴직 등 국내· 외 다양한 정책을 소개하고 여성새로일하기센터 등 여성 재취업을 위한 발전방안에 대해서도 논의할 예정이다. 특히지난해일본군 위안부 피해자 문제 해결을 촉구하는 성명서 발표에 이어일본군 위안부 피해자 기록의 유네스코 등재 등 국제사회 공조를 얻어내기 위해 세계적 수준의 영향력을 강화하는 방안도 함께 논의한다. 행사 첫 날인 26일에는 20개 지역지역담당관 회의 등을 통해차세대 여성리더 양성프로그램 사업의 활동내용과 세계한민족네트워크가 나아가야 할 방향에 대해 토론한다. 미국동부, 미국서부, 캐나다, 과테말라, 중국, 아르헨티나, 인도네시아, 호주, 홍콩, 일본, 터키, 이집트, 독일, 러시아, 필리핀, 뉴질랜드, 브라질, 스페인, 말레이시아, 프랑스 등 20개 지역담당관이 참여한다. 공식 개막식이 열리는 27일 오전 10시 구미시 호텔금오산에서는 조벽 동국대 석좌교수가 일· 가정 양립과 글로벌 파트너십 강화를 주제로 기조연설을 한다. 또한 베스트셀러 미래에서 온 편지의 저자이자 지식나눔콘서트 아이러브의 강사인 정현경 뉴욕 유니언 신학대학 교수가 생애주기에 따른 경력유지 방안모색을 주제로 강연한다. 특히 일본군 위안부 피해자 특별 세션에서는 애니메이션 끝나지 않은 이야기를 시작으로 신혜수 유엔 경제적· 사회적· 문화적 권리위원회 위원의 강연, 정영태씨의 미국서부 LA지역 활동 소개, 남상구 동북아역사재단 연구위원의 위안부 피해자 기록물 보존과 유네스코 등재 관련 정책 소개 등이 있을 예정이다. 지난해 일본군 위안부 피해자 문제를 촉구하는 결의문 채택 이후 회원들의 활동 상황을 공유하고 향후 위안부 피해자 기록물의 유네스코 등재를 위해 국제적 공감대 조성에 기여하는 민간외교 사절로서의 역할에 대해서도 논의한다. 28일에는 의료인· 법조인· 예술인· 기업인 등 각 분야에서 우수한 활동을 펼치고 있는 한민족 여성들이 소중한 성공스토리를 들려 준다. 회원이자 최초 로스앤젤레스 카운티 연방 판사로 선출된 박향헌씨는 도전하는 삶은 즐겁다는 주제로 명사 강의에 나서 해외에서 치열한 삶을 살아가는 활약상을 소개한다. 스웨덴 명문 카롤린스카 의과대학 한기숙 전문의62, 독일 유명 일간지에서 지난해 미술부문 문화상을수상한 예술가 쾨펠 연숙, 사우디 3대 병원인 킹파드 왕립병원의 배경란 간호사59 등 각 지역 다양한 분야의 한인여성 리더들이 참가한다. 29일 지역탐방 시간에는안동 하회마을을 찾아 모국의 역사와 문화를 경험할 수 있는 프로그램이마련됐다. 세계한민족네트워크 행사는 년부터 매년 개최돼 지난 13년 동안 전세계 한인 글로벌 여성 리더 55개국 6000여명이 참가했다. 지역사회의 여성네트워크 활성화를 위해 서울을 비롯해 인천, 부산, 울산, 여수, 대전 등 전국 각지를 번갈아가며 개최되고 있다. 김희정 여성가족부 장관은 이제 세계경제는 잠재력 있는 여성들의 역량을 최대한 발휘하도록 하는 것이 성장전략의 핵심이며 여성의 경제활동 참가율이 높은 국가에서 출산율과 GDP도 높게 나타나고 있다며제14회 세계한민족여성네트워크 대회는 국내외 여성들의 경험과 지혜를 모아 우리나라 경제를 도약시키고 나아가 글로벌 경제의 성장을 위한 중요한 소통과 연대의 장이 될 것이다고말했다.()'"
      ]
     },
     "execution_count": 21,
     "metadata": {},
     "output_type": "execute_result"
    }
   ],
   "source": [
    "import os\n",
    "from common.src.tokenization import *\n",
    "from common.src.refine_punc import *\n",
    "\n",
    "vocab_path = './common/models/345K/vocab.txt'\n",
    "tokenizer = FullTokenizer(vocab_file=vocab_path, do_lower_case=False)\n",
    "tokens = tokenizer.convert_ids_to_tokens(fi['category']['0'][0])\n",
    "text = refine_punc(tokens)\n",
    "text"
   ]
  },
  {
   "cell_type": "markdown",
   "metadata": {},
   "source": [
    "---"
   ]
  },
  {
   "cell_type": "code",
   "execution_count": 1,
   "metadata": {},
   "outputs": [],
   "source": [
    "file_path = './common/data/lc39_data_1.hdf5'\n",
    "fi = h5py.File(file_path, 'r')"
   ]
  },
  {
   "cell_type": "code",
   "execution_count": 2,
   "metadata": {},
   "outputs": [
    {
     "data": {
      "text/plain": [
       "<KeysViewHDF5 ['data']>"
      ]
     },
     "execution_count": 2,
     "metadata": {},
     "output_type": "execute_result"
    }
   ],
   "source": [
    "fi.keys()"
   ]
  },
  {
   "cell_type": "code",
   "execution_count": 15,
   "metadata": {},
   "outputs": [],
   "source": [
    "group = fi['data']"
   ]
  },
  {
   "cell_type": "code",
   "execution_count": 18,
   "metadata": {},
   "outputs": [],
   "source": [
    "dataset = []\n",
    "\n",
    "for key in group.keys():\n",
    "    dataset.append(group[key])"
   ]
  },
  {
   "cell_type": "code",
   "execution_count": 19,
   "metadata": {},
   "outputs": [
    {
     "data": {
      "text/plain": [
       "1"
      ]
     },
     "execution_count": 19,
     "metadata": {},
     "output_type": "execute_result"
    }
   ],
   "source": [
    "len(dataset)"
   ]
  },
  {
   "cell_type": "code",
   "execution_count": 20,
   "metadata": {},
   "outputs": [
    {
     "data": {
      "text/plain": [
       "14548850"
      ]
     },
     "execution_count": 20,
     "metadata": {},
     "output_type": "execute_result"
    }
   ],
   "source": [
    "len(dataset[0])"
   ]
  },
  {
   "cell_type": "code",
   "execution_count": 25,
   "metadata": {},
   "outputs": [],
   "source": [
    "class Sampler_crawled_data(object):\n",
    "    def __init__(self, group, seed=None):\n",
    "        self.group = group\n",
    "        self.dataset = []\n",
    "\n",
    "        for key in group.keys():\n",
    "            self.dataset.append(group[key])\n",
    "        \n",
    "        self.rs = np.random.RandomState(seed=seed)\n",
    "        \n",
    "    def sample(self, length):\n",
    "        index = self.rs.randint(0, len(self.dataset[0]) - length + 1)\n",
    "        return self.dataset[0][index:length+index]"
   ]
  },
  {
   "cell_type": "code",
   "execution_count": 26,
   "metadata": {},
   "outputs": [
    {
     "data": {
      "text/plain": [
       "array([ 35332,  48502,  66682,  16336,  22935, 100571,  54917, 100988,\n",
       "        82571,  65726])"
      ]
     },
     "execution_count": 26,
     "metadata": {},
     "output_type": "execute_result"
    }
   ],
   "source": [
    "sampler = Sampler_crawled_data(fi['data'])\n",
    "sampler.sample(10)"
   ]
  }
 ],
 "metadata": {
  "kernelspec": {
   "display_name": "Python 3",
   "language": "python",
   "name": "python3"
  },
  "language_info": {
   "codemirror_mode": {
    "name": "ipython",
    "version": 3
   },
   "file_extension": ".py",
   "mimetype": "text/x-python",
   "name": "python",
   "nbconvert_exporter": "python",
   "pygments_lexer": "ipython3",
   "version": "3.7.0"
  }
 },
 "nbformat": 4,
 "nbformat_minor": 2
}
