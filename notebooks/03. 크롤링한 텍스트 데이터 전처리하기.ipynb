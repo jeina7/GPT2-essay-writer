{
 "cells": [
  {
   "cell_type": "markdown",
   "metadata": {},
   "source": [
    "# 03. 크롤링한 text data를 전처리해서 저장하기\n",
    "- 작성 : 정민정 (https://github.com/jeina7)"
   ]
  },
  {
   "cell_type": "markdown",
   "metadata": {},
   "source": [
    "---\n",
    "- 지금까지 수집한 모든 plain text 데이터를 일차적으로 전처리한다.\n",
    "\n",
    "\n",
    "- 특정 필요한 특수문자 (`\".\"`, `\",\"` 등의 구두점 등) 를 제외한 다른 특수문자는 모두 제거\n",
    "\n",
    "\n",
    "- 자모음 (`'ㅋㅋㅋ'`, `'ㅜㅜ'` 등) 또한 우리가 생성할 수필 데이터에 부합하지 않으므로 모두 제거\n",
    "\n",
    "\n",
    "---"
   ]
  },
  {
   "cell_type": "markdown",
   "metadata": {},
   "source": [
    "### 1. 현재 디렉토리 상황 확인"
   ]
  },
  {
   "cell_type": "code",
   "execution_count": 2,
   "metadata": {
    "scrolled": false
   },
   "outputs": [
    {
     "name": "stdout",
     "output_type": "stream",
     "text": [
      "\u001b[01;34m.\u001b[00m\r\n",
      "├── \u001b[01;34mCrawling\u001b[00m\r\n",
      "│   └── \u001b[01;34mtextcrawler\u001b[00m\r\n",
      "│       ├── \u001b[01;34m__pycache__\u001b[00m\r\n",
      "│       ├── \u001b[01;34mspiders\u001b[00m\r\n",
      "│       │   └── \u001b[01;34m__pycache__\u001b[00m\r\n",
      "│       ├── \u001b[01;34mtext_data_1\u001b[00m\r\n",
      "│       ├── \u001b[01;34mtext_data_2\u001b[00m\r\n",
      "│       └── \u001b[01;34muse_data\u001b[00m\r\n",
      "├── \u001b[01;34mcommon\u001b[00m\r\n",
      "│   ├── \u001b[01;34mdata\u001b[00m\r\n",
      "│   ├── \u001b[01;34mmodels\u001b[00m\r\n",
      "│   │   └── \u001b[01;34m345K\u001b[00m\r\n",
      "│   ├── \u001b[01;34msamples\u001b[00m\r\n",
      "│   │   ├── \u001b[01;34melc39_1\u001b[00m\r\n",
      "│   │   └── \u001b[01;34melc39_2\u001b[00m\r\n",
      "│   └── \u001b[01;34msrc\u001b[00m\r\n",
      "│       └── \u001b[01;34m__pycache__\u001b[00m\r\n",
      "└── \u001b[01;34mno_use_notebooks\u001b[00m\r\n",
      "\r\n",
      "18 directories\r\n"
     ]
    }
   ],
   "source": [
    "!tree -d"
   ]
  },
  {
   "cell_type": "markdown",
   "metadata": {},
   "source": [
    "- `common` 은 사전에 학교측에서 제공받은 코드 모음\n",
    "\n",
    "\n",
    "- 우리가 수집한 crawling 코드는 `Crawling` 디렉토리에 있음\n",
    "\n",
    "\n",
    "- 이 중 현재까지 수집한 text 데이터는 `Crawling/textcrawler/use_data` 내에 위치"
   ]
  },
  {
   "cell_type": "code",
   "execution_count": 4,
   "metadata": {},
   "outputs": [
    {
     "name": "stdout",
     "output_type": "stream",
     "text": [
      "essay.txt    geulteen.txt\r\n"
     ]
    }
   ],
   "source": [
    "!ls Crawling/textcrawler/use_data/"
   ]
  },
  {
   "cell_type": "markdown",
   "metadata": {},
   "source": [
    "- `essay.txt`, `geulteen.txt` 두 가지 파일로 존재 (수필)"
   ]
  },
  {
   "cell_type": "markdown",
   "metadata": {},
   "source": [
    "### 2. text를 전처리하는 함수 `PreProcess`\n",
    "- 필요없는 부분 제거\n",
    "- 자모음 제거\n",
    "- `.`, `,`, `'`, `\"`, `?`, `!` 를 제외한 특수문자 제거"
   ]
  },
  {
   "cell_type": "code",
   "execution_count": 5,
   "metadata": {},
   "outputs": [],
   "source": [
    "import re\n",
    "\n",
    "def PreProcess(text):\n",
    "    text = re.sub(pattern='Posted on [0-9]{4} [0-9]{2} [0-9]{2} .+ Posted in \\S+ \\s?', \\\n",
    "                  repl='', string=text)\n",
    "    text = re.sub(pattern='Posted on [0-9]{8} .+ Posted in \\S+ \\s?', \\\n",
    "                  repl='', string=text)\n",
    "    text = re.sub(pattern='[0-9]{4}년 [0-9]{,2}월 [0-9]{,2}일 [0-9]{,2}시 [0-9]{,2}분 [0-9]{,2}초', \\\n",
    "                  repl='', string=text)\n",
    "    text = re.sub(pattern='[0-9]{4}. [0-9]{,2}. [0-9]{,2}', \\\n",
    "                  repl='', string=text)\n",
    "    _filter = re.compile('[ㄱ-ㅣ]+')\n",
    "    text = _filter.sub('', text)\n",
    "    _filter = re.compile('[^가-힣 0-9 a-z A-Z \\. \\, \\' \\\" \\? \\!]+')\n",
    "    text = _filter.sub('', text)\n",
    "    return text"
   ]
  },
  {
   "cell_type": "code",
   "execution_count": 6,
   "metadata": {},
   "outputs": [
    {
     "data": {
      "text/plain": [
       "'.. 아아 ? '"
      ]
     },
     "execution_count": 6,
     "metadata": {},
     "output_type": "execute_result"
    }
   ],
   "source": [
    "a = \".. 아아 ? >>\"\n",
    "PreProcess(a)"
   ]
  },
  {
   "cell_type": "markdown",
   "metadata": {},
   "source": [
    "### 3. 데이터를 합쳐서 저장하는 함수 `save_data`"
   ]
  },
  {
   "cell_type": "code",
   "execution_count": 10,
   "metadata": {},
   "outputs": [],
   "source": [
    "from glob import glob\n",
    "\n",
    "def save_data(file_path, save_path):\n",
    "    print('{} data saving.'.format(file_path.split('/')[-1]))\n",
    "    with open(file_path, 'r', encoding='utf-8') as f:\n",
    "        text = f.read()\n",
    "        text = PreProcess(text)\n",
    "\n",
    "    with open(save_path, 'w') as f:\n",
    "        f.write(text)\n",
    "\n",
    "    print(\"\\nAll saved.\".format(file_path.split('/')[-1]))"
   ]
  },
  {
   "cell_type": "markdown",
   "metadata": {},
   "source": [
    "### 4. 합칠 데이터와 새로 저장할 데이터 Path 지정"
   ]
  },
  {
   "cell_type": "code",
   "execution_count": 11,
   "metadata": {},
   "outputs": [],
   "source": [
    "file_1 = './Crawling/textcrawler/use_data/essay.txt'\n",
    "file_2 = './Crawling/textcrawler/use_data/geulteen.txt'\n",
    "save_path_1 = './Crawling/textcrawler/use_data/data_1.txt'\n",
    "save_path_2 = './Crawling/textcrawler/use_data/data_2.txt'"
   ]
  },
  {
   "cell_type": "markdown",
   "metadata": {},
   "source": [
    "### 5. 함수 실행"
   ]
  },
  {
   "cell_type": "code",
   "execution_count": 12,
   "metadata": {
    "scrolled": true
   },
   "outputs": [
    {
     "name": "stdout",
     "output_type": "stream",
     "text": [
      "essay.txt data saving.\n",
      "\n",
      "All saved.\n",
      "geulteen.txt data saving.\n",
      "\n",
      "All saved.\n"
     ]
    }
   ],
   "source": [
    "save_data(file_1, save_path_1)\n",
    "save_data(file_2, save_path_2)"
   ]
  },
  {
   "cell_type": "markdown",
   "metadata": {},
   "source": [
    "### 6. 저장된 데이터 확인"
   ]
  },
  {
   "cell_type": "code",
   "execution_count": 13,
   "metadata": {},
   "outputs": [
    {
     "data": {
      "text/plain": [
       "'나는 어려서부터 노래를 좋아했다. 설거지를 하거나 청소를 하며 흥얼흥얼 노래를 하면 시간이 빨리 간다. 아무리 답답해도 노래를 부르고 나면 기분이 상쾌해진다. 슬플 때에도 큰 소리로 노래를 하면 목이 메지만 속은 후련해진다. 장소에 따라 겉으로 부를 때도 있고 속으로 부르기도 한다. 실은 속으로 부를 때가 더 많다. 결혼을 해서 얼마 되지 않아 서로가 서먹할 때이다. 불같으신 시어머니의 꾸중을 들었다. 어떻게든 분위기를 바꿔 보려고 소리 내지 않고 속으로 성가 한 곡을 부르고 나니 거짓말처럼 어머님의 노여움이 풀어지신 듯 했다. 그 후로 자녀들과 언짢은 일이 있을 때에 속으로 노래를 해 보는데 효과가 있었다. 그러다 보니 속으로 부르는 노래가 저절로 습관이 되었다. 새벽부터 밤중까지 내가 부르는 노래는 수없이 많다. 사람들과 일상적인 이야기를 나누면서도 머리 속에는 항상 리듬이 흐른다. 속으로 부르는 노래는 내게 있어서 기도일 수도 있고, 내 삶의 버팀목이 되기도 한다. 성당에서 일'"
      ]
     },
     "execution_count": 13,
     "metadata": {},
     "output_type": "execute_result"
    }
   ],
   "source": [
    "with open(save_path_1, 'r') as f:\n",
    "    data = f.read()\n",
    "\n",
    "data[:500]"
   ]
  }
 ],
 "metadata": {
  "kernelspec": {
   "display_name": "Python 3",
   "language": "python",
   "name": "python3"
  },
  "language_info": {
   "codemirror_mode": {
    "name": "ipython",
    "version": 3
   },
   "file_extension": ".py",
   "mimetype": "text/x-python",
   "name": "python",
   "nbconvert_exporter": "python",
   "pygments_lexer": "ipython3",
   "version": "3.7.0"
  }
 },
 "nbformat": 4,
 "nbformat_minor": 2
}
