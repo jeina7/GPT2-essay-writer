{
 "cells": [
  {
   "cell_type": "markdown",
   "metadata": {},
   "source": [
    "# 07. Sample data 확인\n",
    "- 작성 : 정민정 (https://github.com/jeina7)"
   ]
  },
  {
   "cell_type": "markdown",
   "metadata": {},
   "source": [
    "---\n",
    "- 두 번째로 학습시켜본 샘플 데이터를 다시 확인해본다. \n",
    "\n",
    "\n",
    "- 데이터셋을 정제해서 (소설 제거, 더 좋은 품질의 수필 사용) 확인해보기\n",
    "\n",
    "---"
   ]
  },
  {
   "cell_type": "code",
   "execution_count": 1,
   "metadata": {},
   "outputs": [],
   "source": [
    "import re\n",
    "from glob import glob\n",
    "from ast import literal_eval\n",
    "from common.src.refine_punc import *"
   ]
  },
  {
   "cell_type": "code",
   "execution_count": 2,
   "metadata": {},
   "outputs": [],
   "source": [
    "def PreProcess(text):\n",
    "    text = re.sub(pattern='Posted on [0-9]{4} [0-9]{2} [0-9]{2} .+ Posted in \\S+ \\s?', \\\n",
    "                  repl='', string=text)\n",
    "    text = re.sub(pattern='Posted on [0-9]{8} .+ Posted in \\S+ \\s?', \\\n",
    "                  repl='', string=text)\n",
    "    text = re.sub(pattern='[0-9]{4}년 [0-9]{,2}월 [0-9]{,2}일 [0-9]{,2}시 [0-9]{,2}분 [0-9]{,2}초', \\\n",
    "                  repl='', string=text)\n",
    "    text = re.sub(pattern='[0-9]{4}. [0-9]{,2}. [0-9]{,2}', \\\n",
    "                  repl='', string=text)\n",
    "    _filter = re.compile('[ㄱ-ㅣ]+')\n",
    "    text = _filter.sub('', text)\n",
    "    _filter = re.compile('[^가-힣 0-9 a-z A-Z \\. \\, \\' \\\" \\? \\!]+')\n",
    "    text = _filter.sub('', text)\n",
    "    return text"
   ]
  },
  {
   "cell_type": "code",
   "execution_count": 3,
   "metadata": {},
   "outputs": [],
   "source": [
    "def save_data(dir_path, save_path):\n",
    "    files = [f for f in glob(dir_path + \"*\", recursive=True)]\n",
    "    \n",
    "    data = ''\n",
    "    \n",
    "    for file in files:\n",
    "        suffix = file.split(\"/\")[-1].split(\".\")[-1]\n",
    "        \n",
    "        if suffix == 'csv':\n",
    "            df = pd.read_csv(file).reset_index()\n",
    "            print('{} data saving. size:'.format(file.split('/')[-1]), df.shape[0])\n",
    "\n",
    "            for i, text in enumerate(df['content'].values):\n",
    "                text = PreProcess(text)\n",
    "                df.loc[i, 'content'] = text\n",
    "\n",
    "            data += \"\\n\".join(df['content'].values)\n",
    "            \n",
    "        elif (suffix == 'txt') and (not file.split(\"/\")[-1].startswith(\"data\")):\n",
    "            print('{} data saving.'.format(file.split('/')[-1]))\n",
    "            with open(file, 'r', encoding='utf-8') as f:\n",
    "                text = f.read()\n",
    "                text = PreProcess(text)\n",
    "                data += text\n",
    "                \n",
    "    with open(save_path, 'w') as f:\n",
    "        f.write(data)\n",
    "\n",
    "    print(\"\\nAll saved.\".format(dir_path.split('/')[-1]))"
   ]
  },
  {
   "cell_type": "code",
   "execution_count": 4,
   "metadata": {},
   "outputs": [],
   "source": [
    "dir_path = './Crawling/textcrawler/use_data/'\n",
    "save_path = './Crawling/textcrawler/use_data/data.txt'"
   ]
  },
  {
   "cell_type": "markdown",
   "metadata": {},
   "source": [
    "### 5. 함수 실행"
   ]
  },
  {
   "cell_type": "code",
   "execution_count": 5,
   "metadata": {
    "scrolled": true
   },
   "outputs": [
    {
     "name": "stdout",
     "output_type": "stream",
     "text": [
      "geulteensupilCrawl.txt data saving.\n",
      "supilCrawl.txt data saving.\n",
      "essayorkr.txt data saving.\n",
      "book_supil.txt data saving.\n",
      "\n",
      "All saved.\n"
     ]
    }
   ],
   "source": [
    "save_data(dir_path, save_path)"
   ]
  },
  {
   "cell_type": "code",
   "execution_count": 6,
   "metadata": {},
   "outputs": [
    {
     "name": "stdout",
     "output_type": "stream",
     "text": [
      "getting [ ./common/samples/elc39_2/samples-001000 ]...\n",
      "getting [ ./common/samples/elc39_2/samples-002000 ]...\n",
      "getting [ ./common/samples/elc39_2/samples-003000 ]...\n",
      "getting [ ./common/samples/elc39_2/samples-004000 ]...\n",
      "getting [ ./common/samples/elc39_2/samples-005000 ]...\n",
      "getting [ ./common/samples/elc39_2/samples-006000 ]...\n",
      "getting [ ./common/samples/elc39_2/samples-007000 ]...\n",
      "getting [ ./common/samples/elc39_2/samples-008000 ]...\n",
      "getting [ ./common/samples/elc39_2/samples-009000 ]...\n"
     ]
    }
   ],
   "source": [
    "data_dir = \"./common/samples/elc39_2\"\n",
    "\n",
    "lines = []\n",
    "files = [f for f in glob(data_dir + \"/*\", recursive=True)]\n",
    "files.sort()\n",
    "for f in files:\n",
    "    print('getting [', f, \"]...\")\n",
    "    with open(f, \"r\") as f:\n",
    "        line = f.readline()\n",
    "        while line:\n",
    "            text = ''\n",
    "            if line.startswith(\"=\"):\n",
    "                line = f.readline()\n",
    "                continue\n",
    "            else:\n",
    "                text += line\n",
    "                line = f.readline()\n",
    "            lines.append(text)"
   ]
  },
  {
   "cell_type": "code",
   "execution_count": 7,
   "metadata": {},
   "outputs": [],
   "source": [
    "samples = []\n",
    "for i, sample in enumerate(lines):\n",
    "    if sample != \"\\n\":\n",
    "        sample = sample.rstrip()\n",
    "        sample = literal_eval(sample)\n",
    "        samples.append(sample)"
   ]
  },
  {
   "cell_type": "code",
   "execution_count": 8,
   "metadata": {},
   "outputs": [
    {
     "data": {
      "text/plain": [
       "45"
      ]
     },
     "execution_count": 8,
     "metadata": {},
     "output_type": "execute_result"
    }
   ],
   "source": [
    "len(samples)"
   ]
  },
  {
   "cell_type": "code",
   "execution_count": 9,
   "metadata": {
    "scrolled": false
   },
   "outputs": [
    {
     "name": "stdout",
     "output_type": "stream",
     "text": [
      "======[sample 1-1]======\n",
      "혼자 고개를 푹 숙인 채 사이렌을 켰다 고개를 들어 현관문을 보자 믿기지 않은 일이었다 창문은 들뜬 거실과는 달리 허연 먼지로 막혀있었다 비가 오고 바람이 불면 밖은 어둑어 막을 내린다는 소리가 들린다 전등만 꺼져도 사방이 어두워질 것이다 한 발짝 내딛자 추위에 떠는 그 애와 눈에 익은 엄마와 라면을 먹으며 슬쩍 눈을 감았다 얼굴에 얼굴을 들이밀며 꺼내오는 궁금증이 길게 뻗어갔다 주위가 어슬렁어졌다 잠을 잘 수가 없다 대신 도서관과 걸을 때마다 피가 묻어나게 도톰한 엄마와 한숨만 내쉬어야 했다 땅바닥에는 눈이 쌓여있고 좌석위에는 눈을 뿌려줄 경찰관 한 명이 아직도 앉아있다 3층 옥상에 놓여있는 산소호흡기다 바람을 맡고 있던 H에 몸을 맡긴 H는 허연 화장기를 남겨두고 들것에 실려 보육원으로 보내졌다 그동안 H는 복도를 계속해서 걸어나와야 했다 그곳에서 학교를 다닐 수 있다면 사실이지만 누군가는 두 번째로 보낼 걸 희망했다 몹시 고역이었다 그 애는 밤새 잠을 잘\n",
      "\n",
      "======[sample 1-2]======\n",
      "혼자 사는 A씨 어머니 때문에 안쓰러운 가족들의 모습이 카메라에 담겨져있었다 특히 40대 후반으로 보이는 중년 여성의 얼굴은 지겹도록 졸려왔다 이따금씩 침대에서 볼 수 있었던 어린 엄마의 모습까지도 대부분의 질문에 남자에게 초점이 맞춰져 있었다 그 때는 나에게 아무런 생각도 들지 않는 듯했다 너 집에 대한 설명을 해야 하는데 언제 그랬냐 어땠냐 그렇게 흘러간 수첩만 아니었어도 남자는 가방을 펼쳐들어 집으로 가버렸어야 했다 내 손은 손 위에서 눈을 질끈 감을 때마다 대충 들어있는 곳을 누가 손에 쥐고 있는 것만 같았다 아예 없는 걸까 아니면 엄마가 널 기다리지 못하는 일이었다면 방안에 묶어두고 쌓아둔 잃어버린 옷들을 꺼내 입었어야 했을까 B씨가 침대에 앉아 일어서며 에게 말했다 누구냐고 물어보려 했는데 C씨의 목소리가 나오질 않았다 나는 고개를 끄덕거렸다 C씨는 도망치듯 화장실로 갔다 그리고 종이를 뺏어 도서관 쪽으로 걸어갔다 화장실에 들어가서 보니 여자였다 망연히 볼\n",
      "\n",
      "======[sample 1-3]======\n",
      "혼자 앉은 상태에서 말했다 나는 멍하니 그를 바라보고 있었다 적은 것들 때문에 스스로 아프다고 느낀다면 그때면 다를 때도 있다는 것을 나도 알아차리게 되지 않는가 그는 단지 눈을 떴을 때 쓰러져 있다는 것뿐이다 누군가 잘못해서 그렇지 않은 것은 아닐 테고 그의 판단 때문에 오히려 나는 때때로 이렇게 고통스러워질 때가 많다고 생각한다 한 번에 지옥에 빠져 있으면 얼마간 달려 있지도 않는 사람들의 최후 때문에 쉽게 그의 손을 떠나보낼 수 없다 그것은 저 것이 아니라 무엇 때문에 나는 비명을 지르고 있는 것일까 세상에는 이상이 없고 전부다 그러나 그의 침묵 속에 나는 끝내 눈을 떴다 답답한 마음이라고 자꾸만 눈을 뜨려고 하고 있으니 나는 괴로웠다 하지만 그 감정은 곧 줄어들게 마련이었다 내가 비명을 지르면 그는 못하겠다고 하고 있고 그것은 배를 고프도록 울리고 있다 짜증 나는 이유 또한 너무 단순해서 용서하고 싶지 않았다 다만 결국은 내가 좀 큰 걸 포기할 때였다 그는 아직 한 걸음도 내딛\n",
      "\n",
      "======[sample 1-4]======\n",
      "혼자서 상자 안을 들여다보고 있을때 그녀는 가까이 있었다 그녀는 이 철창 안을 가만히 보았다 꿈이다 했던 것처럼 누워있는 나를 봤다 하지만 그 소리도 듣지 못하고 눈을 감았다 근데 아마 그 검은 날의 검은 날은 날에 죽은 듯 엉망이고 달리지 않는다 스스로를 보호하기에도 너무나 끔찍했다 아무것도 하고 싶다는 생각조차 하지 않았었다 그리고 이 엄만 있을 때 나는 그 검은 날의 검은 날을 버려야만 했다 난 미처 그 검은 날을 내려두지도 않았고 언제하고 라고 말할 수는 없지만 언제 그리고 또 내가 그것을 되찾았어야만 했다 그리고 그 검은 날은 왕이 되어야 했다 그리고 이제 나는 이 집에 찾아오는 날을 기억해냈다 단지 다음 날과는 다르게 그 안방은 시궁창한 자신의 방 같았다 나는 그때부터 그때부터나 난 이곳에서 지금 그 옛날의 나 자신이라는 사람이 나 자신이었다는 것을 알지 못했었다 하지만 지금껏 한 번도 만났던 적 없는 그 이름을 이미 알고 있었다 저 사람들은 모두들 한 번만 질\n",
      "\n",
      "======[sample 1-5]======\n",
      "혼자 앉았다 그러다가 곧 무언가 달라지기 시작했다 바싹 그녀가 눈을 들게 하는 것 같은 이 분위기에 내 삶에 지각변동이 일어났다 분명 시험 당일이지만 나는 잠을 잘 수 없었고 물론 일어나지 못하고 잘도 잠들지 못했다 가족들도 본인의 이야기를 들으면 내 자존심이 무너지고 말 것이다 그렇다 자네 걱정 마시지 아니구 뭐하군 아무리 전교 1등을 자랑스러워 하지만 이런 서러움에도 불구하고 그 여자는 다른 누군가의 일을 들어줄 수 없었다 아저씨는 어제도 자신의 휴대전화를 꺼낼까봐 운동장 한 쪽에 있었다 나는 아주털어 놓고 서류의 한 구석에 던져 두었다 긴 머리가 한 쪽으로 번져 엄마의 가방을 더욱 두 쪽으로서류는 턱 밑까지 쑥 풀려 있었다 가방 안에는 손에 넣고 통을 채우기 위해 서류를 푹 깨고 손에는 돈을 넣었다 그리고 서류는 날 먹듯이 천천히 뱉어내어져 있었다 가족들은 술에 취한 채 전화로 계속 대고 말했다 미안해 이 구식 좀 네가 자초한지가 중년의 여자가 들고 뛰어왔다 당황하지 않으면 문제가\n",
      "\n",
      "======[sample 2-1]======\n",
      "된 배경에 대해 설명하는 순간 혼란스럽게 몸이 떨려왔다 이따금씩 가다 옴을 느꼈다가는 전혀 집중이 되지 않아서 이렇게 깨도 되고 우리 둘에게 빵을 구해온다 가서는 빵을 만들어 주기 위해 많이 기진척 했다 너희는 걔에게 이렇게 대들린 거고 너희는 선생님이 시키신 빵을 먹을 생각도 하지 않고 제 빵을 말이야 그 아주머니는 지금 병원에 있다 병원에 가서 그 아주머니의 표정을 보며 말했다 앉으라는 말에 당신은 깜짝 놀라 다시 하고 싶다고 말해주었다 괜찮아 이름은 만날 수 없는데 네가 내가 매일 해달라는 부탁이 있어 이것만큼 좋은 일도 없겠지만 난 이 편지를 꼭 받고 싶었다 어쩌면 꼭 받을 수 있는 일이 되어서 감사하다고 말하고 싶었다 몇 번이고 이 편지를 받고 싶다고 말하는 나의 심정은 어땠을까 에 나는 이 편지를 마지막으로 우리 곁을 떠나고 싶었다 다섯 시가 훨씬 넘는 일기에는 수많은 내용들이 담겨있었다 당신은 내가 이 편지를 다 읽을 때까지 2년 동안 열심히 읽었던 것 같다고 했\n",
      "\n",
      "======[sample 2-2]======\n",
      "된 거고 안 그래도 무조건 시험 보는 것 말이 안 되는 게 실제로 저라면 별 수 없었을 거에요 차에 타고 다니다가는 사람이 계속 올라오는 걸 어떡하면 답답할 정도예요 이미 시간이 충분치 않았나 봐요 이유없이 웃었다 길다 비를 맞고 다니는 게 그래서야 다행이라는 표정을 지었다 나는 눈을 밟는 것이 싫었다 뛰어야 할 시간이 좀 남았으니 다음 시간을 주었다 하지만 학교가 익숙하지 않았다 방금 먼 편의점에 들렀는데 카운터에 앉아 핸드폰을 꺼내 게임을 하고 있었다 그래도 즐겁고 편안해보였다 저 학교에서 본 자율고등학교 중에서 이런 곳에 다니는 사람은 단 한 명뿐이었다 그렇게 신나게 공부하고 있을 때 아무도 없는 학교에 정문을 열고 나는 미지의 번호를 누르고 온라인 주문 했다 위 아래를 보면 불탄 고양이가 웅크리고 있고 홍채가 있는 윤곽이 있고 그 고양이는 이야기 하고 있었다 저 애가 저게 불만 없다고 했지 그것도 그것과는 다른 것 같다 어릴 때부터 얼굴이 까만 여자애가 전학 갔고 친구들은\n",
      "\n",
      "======[sample 2-3]======\n",
      "된다 더 이상 살자 왜 나는고그녀의 배를 움켜쥐었다 그녀가 허겁지겁 그녀를 이끌었다 격렬하게 숨을이같은 감정은 소녀의 체력은 매우 약한 것에 지나지 않는다 소녀의 목에는 핏방울 같은 것이 들어있다 소녀의 표정은 참으로 추하다 내가 해도 되나 하는 생각이 들 정도다 그녀의 앙상한 몸이 붉은 핏방울과 함께 붉게 타오르고 있었다 소녀의 앙상한 핏방울과 함께 붉게 타오르는 핏방울과 함께 수많은 주먹들이 소녀를 때려죽게 만들고 있었다 시체가 되었다 끔찍하게 떠올라 버렸다 순간 그녀는 어머니와 아버지의 잘린 결별 직전에 소녀의 죽음을 목격했다 이때 소년이 죽은 채 울음을 터뜨리고 말았다 참다못한 소녀가 오열하며 신부의 잘못이 더 크다고 소리쳤다 그녀는 마지막 선택을 내리지 못하고 이렇게 끝내는 것을 지켜보며 아참 눈물을 흘렸다 죽은 순간을 아직도 붙잡고 있던 그녀가 갑자기 하는 말에 그는 자신의 위치에 갇히게 되었다고 생각했다 대신 흉터를 지키고 미래를 막\n",
      "\n",
      "======[sample 2-4]======\n",
      "된 것이다 질문은 그 질문이 어떤 것인지에 따라 행동이 달라질 수 있음을 나는 그렇다고 믿었다 그 질문의 이름은 맘저미라지만 맘난건 귀로 들릴 지경이었다 지금 내가 하는 말은 내가 아닌 오직 그는 그렇게 말하고 있다 이건 내가 할 수 있는 것이 아니었다 나는 내가 할 수 있는 일이 없다는 걸 알고 있었다 나는 내가 하지 않을 대답을 내가 선택하고 있는 것 같았다 이건 내 생각이 아니라 너 자신이 하는 질문이었다 누군가 말을 걸어도 태연히 태연히 그는 그럴수록 나를 쉽게 판단했다 판단 이 일에 있어서 모든 것을 결정할 수 있는 권리는 누구에게도 없었다 내가 받아들이기엔 그것은 뭐라고 해야 할지조차 정확하지 않았다 그에게 나는 오늘 내가 할 수 있는 어떤 일에 대한 질문을 내게 해주었다 그 질문이 모든 게 옳았던 것처럼만 들렸다 내가 가지고 있는 모든 것이 옳았다는 생각을 하게 됐다 나는 내가 이만큼 넓게 보는 이가 될 수 있었다 그저 상처가\n",
      "\n",
      "======[sample 2-5]======\n",
      "된 말에 다른 친척들은 집에 가는 것을 꺼렸다 그러나 지금의 할아버지는 대문이 열릴 때까지 길을 안 지키신다 자기들의 부모를 대신해 며느리가 된다고 하면 우리 가족은 얼마나 더 불리할 지 그 이유를 고려해서 말이다 할아버지 그 자체가 위로되면 서러워서 마을이 더욱 소란스러워지기 때문이다 할아버지가 나한테 싸우지 말고 그냥 편안히 있으라고 한다면 왠지 꼭 죄없는 일로 생각할 것 같았다 시간이 없다는 이유만으로 산에 내려갈 수가 없다는 것에 무척이나 슬펐다 누군가를 욕하거나 모욕하고 비웃을 때처럼 머리가 아플 지경이다 단지 세상에 어른이 누구인지 부끄러운 것이 당연하다는 식의 편협한 생각뿐이었다 나는 내가 어른으로만 보인다면 언감생심 내 부모에게는 제대로 효도한 아들일 것이라고 생각했다 하지만 그보다는 사람과 더불어 사는 것에는 눈이 없다 그래서 아버지와 멀어지기 시작했고 나이가 들어서는 아버지와 멀어질 때까지도 아버지가 내 곁을 떠나지 않으면 골칫날 것이라는 생각은 접어두었다 그 다음날 아침 아버지는 악몽을 꿨다고 말했다다\n",
      "\n",
      "======[sample 3-1]======\n",
      "있다 눈물이 나올 때까지 킥킥 하던 엄마는 신음소리로 나를 다시 볼 수 없었다 눈물이 나오면 침대에 누워 방에서 울어야 한다 물도 나오지 않았다 울음이 터져 나왔다 나는 엄마의 뺨을 세게 쳤다 피가 얼굴에 나도 엄마는 피가그래도 울지 않은 엄마는 뺨을 살짝 누르면서 아빠가 주고 간 과일을 나눠먹고 싶다고 말하며 허리를 펴고 웃었다 눈물은 쏟아진다 아빠는 표정이 없었다 얼굴이 많이 검었다 눈을 한 번 깜빡이니 바다의 색이 보였다 남자는 눈동자를 굴리며 부르르 떨고 있었다 네 아빠는 자꾸만 웃었다 다음에는 없어 엄마는 내 손목을 잡았다 아빠의 눈물을 보고 있던 아빠의 눈가는 미소가 아닌 울렁거렸다 나는 엄마가 나를 무릎에 앉고 있다는 사실을 안다 언젠가 여자가 좋은 사람 만나서 행복하게 살기를 진심으로 바라고 있었다 성공을 바라는 건 엄마였다 엄마는 튼튼한 몸이 되기를 바라지만 나는 다리를 앞뒤로 흔들면서 날 바라본다 아마 엄마는 다시 태어나는 것이다 나는\n",
      "\n",
      "======[sample 3-2]======\n",
      "있다 시간이 좀 오래 걸렸다 하지만 얼마 지나지 않아 나는 책상 위에 있는 상자를 열어보았다 또한 이야기를 꺼낼 수 있었다 다행이라고 말할 수도 있겠지만 또 아니다 오늘 독서실을 가겠다는 것도 아니지 평소에 계획했었던 일을 떠올린 것뿐이었다 사실 어쩔 수 없이 번듯한 이유로 독서실에 있어 머나먼 이곳을 들렀다 자꾸 글이 많아져서 더더욱 독서실에 있으면 마음이 아프다고 말할 수도 있었다 그리고 안 하고 있으면 나중에 야단을 질러봐도 무슨 핑계로 매달리고 싶은 마음이 들지는 않았다 하지만 그 때는 아무리 열심히도 될까 싶을 때 였다 나는 그런 녀석에게 미움 아닌 미움을 받았다 그런 녀석은 성적을 받아주지 않는 학생이고 그딴 일을 당하면 화를 내고 화를 피워 내는 그런 학생이에요 이럴 때에는 무엇이든지 할 수 있다고 생각하며 나는 내 손을 잡았다 그게 내게 그 별 것이 아님을 시험이 끝나고 깨달은 것이라며 답장을 보내왔다 왜 갑자기 나에게 호의를 보내는 건지 뭘 그렇게 열심히 고민 하는 건지는 기억이 나지 않는다고 생각하고\n",
      "\n",
      "======[sample 3-3]======\n",
      "있었다 나는 그들에게 감사를 표하고 싶은 마음에 죽도록 싫다고 했다 진짜 잘났네 아냐 나는 인사도 없이 로봇 팔을 굽혔다 성큼성큼 쪽을 바라본다 팔이 테이블을 툭툭 쳤다 도망쳐봐도 왜 들어가 있는 거야 가만히 멍하게 TV를 보고 있었다 갑자기 어느 창문이 더 높아졌다 풍선이 반짝이는 것을 찾았다은연중으로 날이 저물고 있었다 그 남자의 팔을 잡고아빠는 아빠는 날 다시 재교육하라는 눈빛을 보내고 있었다 그때 였다 아버지의 뒤를 봐가며 그는 이런 생각을 하며 엄마 아빠 우리 엄마 아빠 잠시 문 밖을 내다보니 화면에 과자들이 둥둥 떠 있었다 나는 그 짧은 텔레비전의 화면을 보며 소리를 질렀다 아빠 그러지 말고 할아버지는 준비해 오셨어요 전화 끊어요 아빠가 사과를 하며 웃음을 내질렀다 엄마 아빠 나 집 문 안에 아무도 없었다 이 시간에도멀다보면 아빠가 날 보고 계시는 것을 눈치행여나 아빠는 나를 위해 감사했다 그렇게라도 사진을 찍어주셨으면 좋았지 무엇이\n",
      "\n",
      "======[sample 3-4]======\n",
      "있었다 나는 얼른 화장실로 달려갔다 내 입에는 물이 차 있었다 그 때 몹시 놀란 엄마가 나갈 것이라 말하며 내게 말했다 그리곤 아니 결국 내방 문을 닫았다 갑자기 엄마가 화장실을 나갈 때 엄마의 옆에 붙은 부모들이 나를 보고는 고개를 돌렸다 눈을 찌르는 것을 느낀다 누가 보고 있는 것인가 혹시 열쇠 찍다 나갈 수 있냐 나는 엄마의 등 뒤를 따라 갔다 엄마는 내 손을 꼭 잡은 채 밖으로 나가있었다 혹시 열쇠 잘못 만져줄까봐 열어 줄 수 있냐 그런 엄마의 말에 엄마는 고개를 돌리고 고개를 끄덕였다 조금 있으면 다른 사람이 쓸 수도 있는데 또 굳이 줘버릴까 싶은 마음이 들었다 손이 조금 움직이려고 했다 바람이 엄마의 얼굴을 툭 쳐다본 모양이었다 곧 그녀의 얼굴이 주먹을 쥐어 날로 내쳐졌다 나는 애써 엄마를 째려보았다 그 사이에 누군가가 내가 무슨 이유로 나를 알아보고 있어 아 미안해 나는 놀란 말을 내뱉은 엄마와 나를 번갈아 보았다 하지만 반응이 없었다 아 삼촌한테 물어봐 혹시 뭐\n",
      "\n",
      "======[sample 3-5]======\n",
      "있다 겉모양에도 과연 B를 위한 생각인가 그 말을 끝으로 마지막에 간의 날이 가고 그 사람의 뒤에는 실이 보여줬다 그를 위한 것이었을까 그건 애초부터 저 사람이 최고참인 형네 세대의 마지막에서 슬픈 남자로 변해버린 그를 위한 꿈들이었다 내가 만 그런 것은 정말이지 굉장한 사람이 되어있을 것이었다 꿈을 꾼 나도 그 사람을 위한 배려 따위는 단 한번도 느껴보지 못했다 부모님과 할아버지 등 가까운 친척을 통해 어느 정도의 위로를 받고 세상에 당당히 살게 되었다 이 정도면 5대의 어린왕자였다 아까의 만치가 남아있었다 어린왕자는 내가 그 사람을 위해 날 때도 싫어할 뿐이었다 할머니 품에서만 자라나다 어느새 어른이 되어 그 중 몇은 꿈도 꾸기 힘들다 하지만 나는 꼭 젊었을 때는 지금의 내 나이를 힘들게 보낼 필요가 없었다 이제 어머니가 돌아가시고 초등학교까지 4년 정도 지난 터라 이제는 남은 게 없었다 그 사실을 알고 있는 순간까지도 그도 언젠가는 어린왕자를 만나 봤\n",
      "\n",
      "======[sample 4-1]======\n",
      "##따라 걔였다 내 기억속의 몇 어린 소녀가 실은 매우 마지막까지 애야 속이 울렁거렸어 그거 담임 선생님이 모른 것 같았어 걔가 목소리는 틀어졌지만 왠지 다시 볼 수 없을 것 같았어 눈물이묻어나 왔지 걔가 그런 말을 했었지 니가 알았으면 빨리 가라고 담임 선생님 나는 대화를 끝내고 한숨을 쉬었다 옆 교실로 가서 평소보다 짧은 물을 마시고 눈을 감았다 선생님도 눈을 뜨고 있었다 너 정말 부족하다 많은 노력하고 있었지만 거의 제대로 듣지도 못하는 질문을 던져버렸다 그냥 들어야만 하는 질문이었다 너 열여덟 쯤 되어 보이는데 과외를 하냐 고등학교도 학원도 없이 혼자서 대학교 졸업해 다 큰 어른이다 잠시만 봐줄래 선생님 네 이 학교에서 가장 절 서있어 이봐 선생님이 아는데 어때 라고 물었다 왜 이 커서 하고 싶어 이 말이다 함께 고등학교나 취직해 간 선배들 중 잘난 사람은 어딜 생각하는 지 가장 궁금한 녀석이더라 좋아 이러고 싶어 실제로 친구들이 아닌 친구를 사귀고 싶어 하기도 했어 그래\n",
      "\n",
      "======[sample 4-2]======\n",
      "##따라 왔다는 자괴감이 들었다 그런데 문제는 나에게도 똑같았다 누군가 내 정보가 새로운 가상의 정보들이 어떤지 주시할 것이다 나는 그뿐이다 원하면 믿어준다 사람들의 생각을 믿고 선택할 수 있다는 것이다 16살의 나는 누구도 나를 판단할 수 없었다 몇 시간 전에 일어난 일이었다 오전보다 오후라는 시간에 열린 회의자리에서 내가 팀장을 해서 팀장 자리에 앉았다 나는 팀장에게 언성을 높이며 짜증스런 말을 했다 그러자 팀장은 팀장의 행동에 대해서 직접 들어주지 않고 자신의 원칙만 따져 말했다 나는 팀장에게 하고 싶은 말이 있다고 했지만 팀장은 그런 건 아닌데 팀장은 실장의 말에 동의하였다 팀장은 뭔데 뭐 시발비용의 개념은 뜻도 잘 모르겠다 그럼 그 정도면 이상할 것 없다면서 혼자서 미친 듯이 뛰고 있었다 그러다 보니 뛰면 다시 속도가 붙는다 내가 늙은 사람처럼 보인다 나는 화가 나기 시작했다 왜 원하는 방향으로 가고 있지 팀장은 계속 그러다가 여기서 나오라고 했다 그러다가 나는 다시 힘없이 무릎을 꿇었다\n",
      "\n",
      "======[sample 4-3]======\n",
      "##따라함께 여행을할 때마다 찾아오는 가족들의 이야기 자연으로의 여행 평화로운 파랑을 지키기 위해 우리는 태어나서부터 1년을 바다로 떠나보고 2년을 달리고 3년을 그리고 4년을 부부로 생활하며 사는 이야기 일본이 싫어서 갔던 곳 일본에 와보니 제일 좋아하는 것은 사람냄새라서 갔던 날이면아닌 따뜻한 일본 사투리인 다 머무르다 갔던 첫 날 이였는데 어색했던 표현이었는데 그때의 그 느낌이 너무 좋아서 몇 주 동안 행복했던 기억들로 들어가 일본으로가 일본에 갔던 지 3년이 되던 해에 일본으로 가는 사람을 처음으로 만나게 되었다 첫 일본생활 이야기 소설 또 다른 세계 일본에서 살다 간 첫사랑 이야기 죽은 사람이 살던 시대는 참 좋았다 자신의 과거를 끝까지 되짚어 보기 위해서 끝없는 여행을 하고 있었다 시간도 없었고 서로를 잘 몰라 무조건 눌러놓기에는 내가 너무 늦었고 이해가 안 되는 부분도 너무 많았다 항상 변하는 자신의 얼굴을 볼 때마다 정말로 존경스러웠다 이런 친구들과 너도 좋지만 너는 참 좋\n",
      "\n",
      "======[sample 4-4]======\n",
      "##따라 그렇게 느꼈는지 나는 드디어 다짐했었다 형식적인 대화였지만 저들이 제시한 자신감 넘치는 약속이 잘 이행되지 않을 것 같았다 그래서 좋았다 중요한 약속은 빨리 해주지 않으면 언제까지 약속을 못할까 라는 막연한 생각이 바로 오늘도 나를 이끌었다 적어도 한 마디는 놓칠 것 같았다 나는 짧은 순간이라도 언젠가 끝일지도 모르는 헤어짐을 생각하면서 잠들고 있었다 괜찮은지 의심이 가는 나쁜 소문과 걱정스러운 소문이 있었고 믿음으로 믿어야 하는지 의심이 가는 소문이 있었다 단지 간단한 결명을 흘리기 위해 차마 못하겠어 둘 중 한명인 나는 혼자 잠을 자고 있었다 그 날 유난히도 조용한 이 그녀가 이불을 끄지 않고 방에서 울고 있었다 가장 쓸쓸하고 가슴께 시린 곳이라고 해도 과언이 아니었다 그 날은 주머니 속까지 어둠이었고 오직 그녀만이 그녀의 알 수 있었던 비밀을 안고 있었다 그제야 그녀가 잠자는 곳을 향해 걸어오는 느낌이었다 그 시점에서 내가 그녀를 향하고 있었던 가장 꼭대기인 곳으로 나는 그녀가 가장\n",
      "\n",
      "======[sample 4-5]======\n",
      "##따라 씻지 않아도 된다 절대 변기에 버릴 수 없다 4 20운동이라면 그러려니 넌 그냥 그리고 그렇게 그 생각을 하신다 그런 나의 무기력함이 지직거리며 눈앞이 흐려진다 9 25 운동이라면 전교 1등은 저 여학생 죽어도 글만 올릴 것인가 18 38 민주선언을 통해 보인 삼류 특검이다 역시 애국정신으로 무장해 다시 한번 사회를 개혁하는 새 시대의 기수를 뽑아주시기 바란다 관심 있는 친구들에게 연락을 주시면 좋겠다 나에게도 기회를 주신다면 특별이야기는 들어도 좋다 6 아래 clue 라 불리는 가장 좋은 말이다 가장 좋아하고 존경하는 말이다 하루동안 단 한명만 읽었다 댓글에는 공부를 안하는 사람이 어쩌고 하며 위로해주는 댓글을 달아주셨다 아 보니 공부 안하는 사람들은 위인전의 빛나는 등불에 앉아 머리가 깨질듯이 아파왔다 입술이 빨갛게 변해가는 것을 보면서 애송이인 우리 언니의 목소리를 듣고 싶었다 다른 사람들은 정말 몰랐다 자기가 정말 아깝다고 생각하지만 그래도 이 언니 나는 용기있게 용기가 난다고 느낀다 울고 싶어 전\n",
      "\n",
      "======[sample 5-1]======\n",
      "##면서 가방에서 담배를 꺼내 구멍에 넣는다 난 울고 있었지만 몇 번이고 아랫배를 연신 찌르고 찌르다가 결국에는 숨을 가쁘게 몰아쉬다 항상 내가 쳐다만 보고만 있던 고모가 다시 자기 가방에 담배를 쑤셔 넣는다 거리가 사람이 없다고 했어 창피하지만 내가 이 정도로 커져버리면 아무 때나 담배를 피우는 게 당연한 것처럼 보이게 해 버린다 설마 어머니는 그런 일까지 감수하느냐고 묻는 거야 고모는 고작 할아버지 같은 꼴인데 내가 더 힘이 센 어머니 때문에 상황이 이렇게 된 줄 알면 더 이해할 수 없어 하지만 그럴 리가 없지 않아서 정말 대단한 사람이 되어버리면 않겠나 물론 그럴 리도 없잖아 또 그렇게 죽고 싶은 생각도 없으니까 뒤에서 엄마가 그랬지 삼촌이나 할아버지를 보고 말이야 아 정말 믿기지가 않아서 그런데 세상에 마음에 든 남자는 이미 한 번이라도 더 힘들게 일해서 그런 사람이었는지 가슴이 터져라 울었다 어머니는 또 할아버지 아버지인 줄 만 알았다 그렇지만 아버지 얼굴만 보고 고개를 내저을 사람은 절대 아버지가 아니라고 했지 그 이후로 아무 소리도 들리지 않았었\n",
      "\n",
      "======[sample 5-2]======\n",
      "##면서 생은 계속되어야 했다 물론 이 모든 것은 성장과 도태의 과정이겠지만 다른 방식들로 작은 언덕들을 메워나가야만 했다 그럴 수 없었던 내가 이 바다를 떠나기 위해 가장것은 이 산이 아니라 나를 알고 싶었던 나만이 이 드넓은 초록빛 바다를 바라볼 수 있는 것이었다 설령 태어나서 너무 자고 싶어서 살았다고 하더라도 평생 걸을 것이니까 아직 소년의 옛 풍취를 잊지 못하는 마음에 아버지의 사업이 무엇이냐고 되물을 수는 없었다 그렇게 이곳을 떠나자 다시금 땅이 그리운 것이었다 소년은 다시 바다의 깊은 부분을 바라볼 수밖에 없었고 난 그럼에도 이 바다를 지켜보고 있었다 그리고 소년은 집으로 돌아가 그 광활한 바다의 광활한 한가운데에 홀로 우뚝 선 작은 바다를 보고 싶었다 그리고 그에게 전화를 하고 내가 누워있는 집을 향해 달려오며 위로해줄 것이다 그리고 바다를 응시하며 날이 저물고 있었다 물이 가득한 호수는 바닥에 내팽개쳐져 있고 어둠이 늘어진 하늘은 예전의 추억을 회상하며 내\n",
      "\n",
      "======[sample 5-3]======\n",
      "##면서 기다리고 기다리던 그 곳에 내가 있었다 한다 내 목소리가 들린다 안녕하세요 인사를 받아 주셨던 어머님의 목소리와 감사한 분을 만나기 위해 엄마도 계신데 건강하시고 행복하세요 용서를 구하기 위해서 무릎을 꿇고 앉았던 기억들 을 새겼다 제 발걸음이 빠르게 무거워진다 그리고 많은 것들이 주졌다 눈을 감으면 우리 둘은 왼쪽 손에 무언가를 쥐고 있다 그리고 오른쪽 손에는 좀 전에 내가 거주한 곳의 핀들이 심겨있다 그리고 고맙다 마지막으로 고개를 돌려보니 생일잔치가 열리고 있다 그걸 본 아버지가 갑자기 울음을 터뜨렸다 다행스럽게도 정신을 차린 아버지는 뭔가를 이야기했다 나랑 잘 해보자 남자의 목소리가 들려왔다 작고 맑은 목소리로 빠르게 말했다 어머 나와 결혼한 지 20 년 된 나는 그 말을 듣고 울음을 참았다 남자는 그렇게 중얼거린 뒤 축 늘어진 티셔츠에 청바지를 차려입고 우리 옷으로 갈아입고는서 쏟아지는 눈물을 다시 닦았다 겨울인데도 봄답지 않은 따스함이 싸늘하게 남자를 덮어버렸다 그러나 여전히 우리의 눈은 아름고\n",
      "\n",
      "======[sample 5-4]======\n",
      "##면서 그들은 공원을 바라보며 혼잡한 풍경을 담고 있는 건물의 뒤를 쫓는 것이다 붉게 물들고 있는 나무의 열매들이 하늘에내렸다 그는 창문을 바라보며 비를 뚝뚝 떨구어트렸다 그럴 때마다 몇 번이고 끊임없이 옆을 힐끗 힐끗 쳐다보며 한 줄기의 붉은 빛깔을 비출 것만 같았던 꽃이 여전히 감도고 아름답게 흐물흐물해져서 구름사다리를 내려간다 거대하고 장엄한 행렬과 빛을 담은 음악이 사람들의 눈길을 잡아끈다 나뭇가지 끝에서 불이 밝혀 져 검은 날이 떠서 사람들을 하나하나 태우며 어떻게 하여 그들은 햇빛을 볼 수 있겠지 하지만 사람들의 눈은 거기에 더해 다시 계속 퍼붓는 비를 탓하며 그들이 지금껏 온 힘을 다해서 눈앞에 보이는 건 아무 생각이 없다 그저말라가는것만이 사람의 전부인가 그렇다면 내일 역시 그들은 그들의 앞에 멈춰 서서 비를 피하는 것일지도 모른다 비를 무서워하는 사람들 대신 단순히 남의 깃털이나보태줄 것만 같은 환영은 현실이 되어버린 사람들 뿐이다 그들은 자신의\n",
      "\n",
      "======[sample 5-5]======\n",
      "##면서 자신의 추리본능을 자극시켰다 앨범 위에서 녹아났던 목소리는 다시 진한 볼륨으로 변했다 노인은 침을 삼켰다 노래를 부르는 동안 내 손은 허공 속에서 사라졌다 가만히 세월의 흔적을 보았다 슬픈 것만 같다 잠시 이대로 오래오래 살 수는 없다 그는 다 가진 노인의 손을 찢었다 한 마디로 이 망할이지 모두 다 된죽이다 그는 부러진 지팡이를 눈으로 끄덕 거리며 뇌를 해부했다 나는 아직 잠들지 않았다 나는 나는 오늘도 어둠 속에 나 혼자 눈을 감고 가만히 있었다 그는 어둠 속에서 떨리는 눈을것이었다 뭐지 나는 자는 시간을 확인했다 그리고 분명히 눈이 감겨졌다 희미해졌다 어느한 곳이 어딘가 밝게 빛났다 전부다 어딘가 그렇게 느껴진다 아무리 어둡게 간직해봐도 주욱 그는 내 시야에서 벗어나지 않는다 낯익은 풍경을 감상하는 것은 피곤하기 짝이 없다 아무리 포근하다 한들 나를 진정시키고 싶은 것은 사실이다 왜 나는 그를 찾지 않을까 자꾸 내 손은 더욱 그를 아프게 한다 모두 다하지 못해 헤어진다 사랑하는 것\n",
      "\n",
      "======[sample 6-1]======\n",
      "[PAD] 델라즈[PAD][PAD][PAD][PAD][PAD][PAD][PAD][PAD][PAD][PAD][PAD][PAD][PAD][PAD][PAD][PAD][PAD][PAD][PAD][PAD][PAD][PAD][PAD][PAD][PAD][PAD][PAD][PAD][PAD][PAD][PAD][PAD][PAD][PAD][PAD][PAD][PAD][PAD][PAD][PAD][PAD][PAD][PAD][PAD][PAD][PAD][PAD][PAD][PAD][PAD][PAD][PAD][PAD][PAD][PAD][PAD][PAD][PAD][PAD][PAD][PAD][PAD][PAD][PAD][PAD][PAD][PAD][PAD][PAD][PAD][PAD][PAD][PAD][PAD][PAD][PAD][PAD][PAD][PAD][PAD][PAD][PAD][PAD][PAD][PAD][PAD][PAD][PAD][PAD][PAD][PAD][PAD][PAD][PAD][PAD][PAD][PAD][PAD][PAD][PAD][PAD][PAD][PAD][PAD][PAD][PAD][PAD][PAD][PAD][PAD][PAD][PAD][PAD][PAD][PAD][PAD][PAD][PAD][PAD][PAD][PAD][PAD][PAD][PAD][PAD][PAD][PAD][PAD][PAD][PAD][PAD][PAD][PAD][PAD][PAD][PAD][PAD][PAD][PAD][PAD][PAD][PAD][PAD][PAD][PAD][PAD][PAD][PAD][PAD][PAD][PAD][PAD][PAD][PAD][PAD][PAD][PAD][PAD][PAD][PAD][PAD][PAD][PAD][PAD][PAD][PAD][PAD][PAD][PAD][PAD][PAD][PAD][PAD][PAD][PAD][PAD][PAD][PAD][PAD][PAD][PAD][PAD][PAD][PAD][PAD][PAD][PAD][PAD][PAD][PAD][PAD][PAD][PAD][PAD][PAD][PAD][PAD][PAD][PAD][PAD][PAD][PAD][PAD][PAD][PAD][PAD][PAD][PAD][PAD][PAD][PAD][PAD][PAD][PAD][PAD][PAD][PAD][PAD][PAD][PAD][PAD][PAD][PAD][PAD][PAD][PAD][PAD][PAD][PAD][PAD][PAD][PAD][PAD][PAD][PAD][PAD][PAD][PAD][PAD][PAD][PAD][PAD][PAD][PAD][PAD][PAD][PAD][PAD][PAD][PAD][PAD][PAD][PAD][PAD][PAD]\n",
      "\n",
      "======[sample 6-2]======\n",
      "[PAD][PAD][PAD][PAD][PAD][PAD][PAD][PAD][PAD][PAD][PAD][PAD][PAD][PAD][PAD][PAD][PAD][PAD][PAD][PAD][PAD][PAD][PAD][PAD][PAD][PAD][PAD][PAD][PAD][PAD][PAD][PAD][PAD][PAD][PAD][PAD][PAD][PAD][PAD][PAD][PAD][PAD][PAD][PAD][PAD][PAD][PAD][PAD][PAD][PAD][PAD][PAD][PAD][PAD][PAD][PAD][PAD][PAD][PAD][PAD][PAD][PAD][PAD][PAD][PAD][PAD][PAD][PAD][PAD][PAD][PAD][PAD][PAD][PAD][PAD][PAD][PAD][PAD][PAD][PAD][PAD][PAD][PAD][PAD][PAD][PAD][PAD][PAD][PAD][PAD][PAD][PAD][PAD][PAD][PAD][PAD][PAD][PAD][PAD][PAD][PAD][PAD][PAD][PAD][PAD][PAD][PAD][PAD][PAD][PAD][PAD][PAD][PAD][PAD][PAD][PAD][PAD][PAD][PAD][PAD][PAD][PAD][PAD][PAD][PAD][PAD][PAD][PAD][PAD][PAD][PAD][PAD][PAD][PAD][PAD][PAD][PAD][PAD][PAD][PAD][PAD][PAD][PAD][PAD][PAD][PAD][PAD][PAD][PAD][PAD][PAD][PAD][PAD][PAD][PAD][PAD][PAD][PAD][PAD][PAD][PAD][PAD][PAD][PAD][PAD][PAD][PAD][PAD][PAD][PAD][PAD][PAD][PAD][PAD][PAD][PAD][PAD][PAD][PAD][PAD][PAD][PAD][PAD][PAD][PAD][PAD][PAD][PAD][PAD][PAD][PAD][PAD][PAD][PAD][PAD][PAD][PAD][PAD][PAD][PAD][PAD][PAD][PAD][PAD][PAD][PAD][PAD][PAD][PAD][PAD][PAD][PAD][PAD][PAD][PAD][PAD][PAD][PAD][PAD][PAD][PAD][PAD][PAD][PAD][PAD][PAD][PAD][PAD][PAD][PAD][PAD][PAD][PAD][PAD][PAD][PAD][PAD][PAD][PAD][PAD][PAD][PAD][PAD][PAD][PAD][PAD][PAD][PAD][PAD][PAD][PAD][PAD][PAD][PAD][PAD][PAD][PAD]\n",
      "\n",
      "======[sample 6-3]======\n",
      "[PAD] ptrace[PAD][PAD][PAD][PAD][PAD][PAD][PAD][PAD][PAD][PAD][PAD][PAD][PAD][PAD][PAD][PAD][PAD][PAD][PAD][PAD][PAD][PAD][PAD][PAD][PAD][PAD][PAD][PAD][PAD][PAD][PAD][PAD][PAD][PAD][PAD][PAD][PAD][PAD][PAD][PAD][PAD][PAD][PAD][PAD][PAD][PAD][PAD][PAD][PAD][PAD][PAD][PAD][PAD][PAD][PAD][PAD][PAD][PAD][PAD][PAD][PAD][PAD][PAD][PAD][PAD][PAD][PAD][PAD][PAD][PAD][PAD][PAD][PAD][PAD][PAD][PAD][PAD][PAD][PAD][PAD][PAD][PAD][PAD][PAD][PAD][PAD][PAD][PAD][PAD][PAD][PAD][PAD][PAD][PAD][PAD][PAD][PAD][PAD][PAD][PAD][PAD][PAD][PAD][PAD][PAD][PAD][PAD][PAD][PAD][PAD][PAD][PAD][PAD][PAD][PAD][PAD][PAD][PAD][PAD][PAD][PAD][PAD][PAD][PAD][PAD][PAD][PAD][PAD][PAD][PAD][PAD][PAD][PAD][PAD][PAD][PAD][PAD][PAD][PAD][PAD][PAD][PAD][PAD][PAD][PAD][PAD][PAD][PAD][PAD][PAD][PAD][PAD][PAD][PAD][PAD][PAD][PAD][PAD][PAD][PAD][PAD][PAD][PAD][PAD][PAD][PAD][PAD][PAD][PAD][PAD][PAD][PAD][PAD][PAD][PAD][PAD][PAD][PAD][PAD][PAD][PAD][PAD][PAD][PAD][PAD][PAD][PAD][PAD][PAD][PAD][PAD][PAD][PAD][PAD][PAD][PAD][PAD][PAD][PAD][PAD][PAD][PAD][PAD][PAD][PAD][PAD][PAD][PAD][PAD][PAD][PAD][PAD][PAD][PAD][PAD][PAD][PAD][PAD][PAD][PAD][PAD][PAD][PAD][PAD][PAD][PAD][PAD][PAD][PAD][PAD][PAD][PAD][PAD][PAD][PAD][PAD][PAD][PAD][PAD][PAD][PAD][PAD][PAD][PAD][PAD][PAD][PAD][PAD][PAD][PAD][PAD][PAD][PAD][PAD][PAD]\n",
      "\n",
      "======[sample 6-4]======\n",
      "[PAD]월인석보[PAD][PAD][PAD][PAD][PAD][PAD][PAD][PAD][PAD][PAD][PAD][PAD][PAD][PAD][PAD][PAD][PAD][PAD][PAD][PAD][PAD][PAD][PAD][PAD][PAD][PAD][PAD][PAD][PAD][PAD][PAD][PAD][PAD][PAD][PAD][PAD][PAD][PAD][PAD][PAD][PAD][PAD][PAD][PAD][PAD][PAD][PAD][PAD][PAD][PAD][PAD][PAD][PAD][PAD][PAD][PAD][PAD][PAD][PAD][PAD][PAD][PAD][PAD][PAD][PAD][PAD][PAD][PAD][PAD][PAD][PAD][PAD][PAD][PAD][PAD][PAD][PAD][PAD][PAD][PAD][PAD][PAD][PAD][PAD][PAD][PAD][PAD][PAD][PAD][PAD][PAD][PAD][PAD][PAD][PAD][PAD][PAD][PAD][PAD][PAD][PAD][PAD][PAD][PAD][PAD][PAD][PAD][PAD][PAD][PAD][PAD][PAD][PAD][PAD][PAD][PAD][PAD][PAD][PAD][PAD][PAD][PAD][PAD][PAD][PAD][PAD][PAD][PAD][PAD][PAD][PAD][PAD][PAD][PAD][PAD][PAD][PAD][PAD][PAD][PAD][PAD][PAD][PAD][PAD][PAD][PAD][PAD][PAD][PAD][PAD][PAD][PAD][PAD][PAD][PAD][PAD][PAD][PAD][PAD][PAD][PAD][PAD][PAD][PAD][PAD][PAD][PAD][PAD][PAD][PAD][PAD][PAD][PAD][PAD][PAD][PAD][PAD][PAD][PAD][PAD][PAD][PAD][PAD][PAD][PAD][PAD][PAD][PAD][PAD][PAD][PAD][PAD][PAD][PAD][PAD][PAD][PAD][PAD][PAD][PAD][PAD][PAD][PAD][PAD][PAD][PAD][PAD][PAD][PAD][PAD][PAD][PAD][PAD][PAD][PAD][PAD][PAD][PAD][PAD][PAD][PAD][PAD][PAD][PAD][PAD][PAD][PAD][PAD][PAD][PAD][PAD][PAD][PAD][PAD][PAD][PAD][PAD][PAD][PAD][PAD][PAD][PAD][PAD][PAD][PAD][PAD][PAD][PAD][PAD][PAD][PAD][PAD][PAD][PAD][PAD]\n",
      "\n",
      "======[sample 6-5]======\n",
      "[PAD] 위야오[PAD][PAD][PAD][PAD][PAD][PAD][PAD][PAD][PAD][PAD][PAD][PAD][PAD][PAD][PAD][PAD][PAD][PAD][PAD][PAD][PAD][PAD][PAD][PAD][PAD][PAD][PAD][PAD][PAD][PAD][PAD][PAD][PAD][PAD][PAD][PAD][PAD][PAD][PAD][PAD][PAD][PAD][PAD][PAD][PAD][PAD][PAD][PAD][PAD][PAD][PAD][PAD][PAD][PAD][PAD][PAD][PAD][PAD][PAD][PAD][PAD][PAD][PAD][PAD][PAD][PAD][PAD][PAD][PAD][PAD][PAD][PAD][PAD][PAD][PAD][PAD][PAD][PAD][PAD][PAD][PAD][PAD][PAD][PAD][PAD][PAD][PAD][PAD][PAD][PAD][PAD][PAD][PAD][PAD][PAD][PAD][PAD][PAD][PAD][PAD][PAD][PAD][PAD][PAD][PAD][PAD][PAD][PAD][PAD][PAD][PAD][PAD][PAD][PAD][PAD][PAD][PAD][PAD][PAD][PAD][PAD][PAD][PAD][PAD][PAD][PAD][PAD][PAD][PAD][PAD][PAD][PAD][PAD][PAD][PAD][PAD][PAD][PAD][PAD][PAD][PAD][PAD][PAD][PAD][PAD][PAD][PAD][PAD][PAD][PAD][PAD][PAD][PAD][PAD][PAD][PAD][PAD][PAD][PAD][PAD][PAD][PAD][PAD][PAD][PAD][PAD][PAD][PAD][PAD][PAD][PAD][PAD][PAD][PAD][PAD][PAD][PAD][PAD][PAD][PAD][PAD][PAD][PAD][PAD][PAD][PAD][PAD][PAD][PAD][PAD][PAD][PAD][PAD][PAD][PAD][PAD][PAD][PAD][PAD][PAD][PAD][PAD][PAD][PAD][PAD][PAD][PAD][PAD][PAD][PAD][PAD][PAD][PAD][PAD][PAD][PAD][PAD][PAD][PAD][PAD][PAD][PAD][PAD][PAD][PAD][PAD][PAD][PAD][PAD][PAD][PAD][PAD][PAD][PAD][PAD][PAD][PAD][PAD][PAD][PAD][PAD][PAD][PAD][PAD][PAD][PAD][PAD][PAD][PAD][PAD][PAD][PAD][PAD][PAD][PAD]\n",
      "\n",
      "======[sample 7-1]======\n",
      "[PAD][PAD][PAD][PAD][PAD][PAD][PAD][PAD][PAD][PAD][PAD][PAD][PAD][PAD][PAD][PAD][PAD][PAD][PAD][PAD][PAD][PAD][PAD][PAD][PAD][PAD][PAD][PAD][PAD][PAD][PAD][PAD][PAD][PAD][PAD][PAD][PAD][PAD][PAD][PAD][PAD][PAD][PAD][PAD][PAD][PAD][PAD][PAD][PAD][PAD][PAD][PAD][PAD][PAD][PAD][PAD][PAD][PAD][PAD][PAD][PAD][PAD][PAD][PAD][PAD][PAD][PAD][PAD][PAD][PAD][PAD][PAD][PAD][PAD][PAD][PAD][PAD][PAD][PAD][PAD][PAD][PAD][PAD][PAD][PAD][PAD][PAD][PAD][PAD][PAD][PAD][PAD][PAD][PAD][PAD][PAD][PAD][PAD][PAD][PAD][PAD][PAD][PAD][PAD][PAD][PAD][PAD][PAD][PAD][PAD][PAD][PAD][PAD][PAD][PAD][PAD][PAD][PAD][PAD][PAD][PAD][PAD][PAD][PAD][PAD][PAD][PAD][PAD][PAD][PAD][PAD][PAD][PAD][PAD][PAD][PAD][PAD][PAD][PAD][PAD][PAD][PAD][PAD][PAD][PAD][PAD][PAD][PAD][PAD][PAD][PAD][PAD][PAD][PAD][PAD][PAD][PAD][PAD][PAD][PAD][PAD][PAD][PAD][PAD][PAD][PAD][PAD][PAD][PAD][PAD][PAD][PAD][PAD][PAD][PAD][PAD][PAD][PAD][PAD][PAD][PAD][PAD][PAD][PAD][PAD][PAD][PAD][PAD][PAD][PAD][PAD][PAD][PAD][PAD][PAD][PAD][PAD][PAD][PAD][PAD][PAD][PAD][PAD][PAD][PAD][PAD][PAD][PAD][PAD][PAD][PAD][PAD][PAD][PAD][PAD][PAD][PAD][PAD][PAD][PAD][PAD][PAD][PAD][PAD][PAD][PAD][PAD][PAD][PAD][PAD][PAD][PAD][PAD][PAD][PAD][PAD][PAD][PAD][PAD][PAD][PAD][PAD][PAD][PAD][PAD][PAD][PAD][PAD][PAD][PAD][PAD][PAD][PAD][PAD][PAD][PAD][PAD]\n",
      "\n",
      "======[sample 7-2]======\n",
      "[PAD][PAD][PAD][PAD][PAD][PAD][PAD][PAD][PAD][PAD][PAD][PAD][PAD][PAD][PAD][PAD][PAD][PAD][PAD][PAD][PAD][PAD][PAD][PAD][PAD][PAD][PAD][PAD][PAD][PAD][PAD][PAD][PAD][PAD][PAD][PAD][PAD][PAD][PAD][PAD][PAD][PAD][PAD][PAD][PAD][PAD][PAD][PAD][PAD][PAD][PAD][PAD][PAD][PAD][PAD][PAD][PAD][PAD][PAD][PAD][PAD][PAD][PAD][PAD][PAD][PAD][PAD][PAD][PAD][PAD][PAD][PAD][PAD][PAD][PAD][PAD][PAD][PAD][PAD][PAD][PAD][PAD][PAD][PAD][PAD][PAD][PAD][PAD][PAD][PAD][PAD][PAD][PAD][PAD][PAD][PAD][PAD][PAD][PAD][PAD][PAD][PAD][PAD][PAD][PAD][PAD][PAD][PAD][PAD][PAD][PAD][PAD][PAD][PAD][PAD][PAD][PAD][PAD][PAD][PAD][PAD][PAD][PAD][PAD][PAD][PAD][PAD][PAD][PAD][PAD][PAD][PAD][PAD][PAD][PAD][PAD][PAD][PAD][PAD][PAD][PAD][PAD][PAD][PAD][PAD][PAD][PAD][PAD][PAD][PAD][PAD][PAD][PAD][PAD][PAD][PAD][PAD][PAD][PAD][PAD][PAD][PAD][PAD][PAD][PAD][PAD][PAD][PAD][PAD][PAD][PAD][PAD][PAD][PAD][PAD][PAD][PAD][PAD][PAD][PAD][PAD][PAD][PAD][PAD][PAD][PAD][PAD][PAD][PAD][PAD][PAD][PAD][PAD][PAD][PAD][PAD][PAD][PAD][PAD][PAD][PAD][PAD][PAD][PAD][PAD][PAD][PAD][PAD][PAD][PAD][PAD][PAD][PAD][PAD][PAD][PAD][PAD][PAD][PAD][PAD][PAD][PAD][PAD][PAD][PAD][PAD][PAD][PAD][PAD][PAD][PAD][PAD][PAD][PAD][PAD][PAD][PAD][PAD][PAD][PAD][PAD][PAD][PAD][PAD][PAD][PAD][PAD][PAD][PAD][PAD][PAD][PAD][PAD][PAD][PAD][PAD][PAD]\n",
      "\n",
      "======[sample 7-3]======\n",
      "[PAD][PAD][PAD][PAD][PAD][PAD][PAD][PAD][PAD][PAD][PAD][PAD][PAD][PAD][PAD][PAD][PAD][PAD][PAD][PAD][PAD][PAD][PAD][PAD][PAD][PAD][PAD][PAD][PAD][PAD][PAD][PAD][PAD][PAD][PAD][PAD][PAD][PAD][PAD][PAD][PAD][PAD][PAD][PAD][PAD][PAD][PAD][PAD][PAD][PAD][PAD][PAD][PAD][PAD][PAD][PAD][PAD][PAD][PAD][PAD][PAD][PAD][PAD][PAD][PAD][PAD][PAD][PAD][PAD][PAD][PAD][PAD][PAD][PAD][PAD][PAD][PAD][PAD][PAD][PAD][PAD][PAD][PAD][PAD][PAD][PAD][PAD][PAD][PAD][PAD][PAD][PAD][PAD][PAD][PAD][PAD][PAD][PAD][PAD][PAD][PAD][PAD][PAD][PAD][PAD][PAD][PAD][PAD][PAD][PAD][PAD][PAD][PAD][PAD][PAD][PAD][PAD][PAD][PAD][PAD][PAD][PAD][PAD][PAD][PAD][PAD][PAD][PAD][PAD][PAD][PAD][PAD][PAD][PAD][PAD][PAD][PAD][PAD][PAD][PAD][PAD][PAD][PAD][PAD][PAD][PAD][PAD][PAD][PAD][PAD][PAD][PAD][PAD][PAD][PAD][PAD][PAD][PAD][PAD][PAD][PAD][PAD][PAD][PAD][PAD][PAD][PAD][PAD][PAD][PAD][PAD][PAD][PAD][PAD][PAD][PAD][PAD][PAD][PAD][PAD][PAD][PAD][PAD][PAD][PAD][PAD][PAD][PAD][PAD][PAD][PAD][PAD][PAD][PAD][PAD][PAD][PAD][PAD][PAD][PAD][PAD][PAD][PAD][PAD][PAD][PAD][PAD][PAD][PAD][PAD][PAD][PAD][PAD][PAD][PAD][PAD][PAD][PAD][PAD][PAD][PAD][PAD][PAD][PAD][PAD][PAD][PAD][PAD][PAD][PAD][PAD][PAD][PAD][PAD][PAD][PAD][PAD][PAD][PAD][PAD][PAD][PAD][PAD][PAD][PAD][PAD][PAD][PAD][PAD][PAD][PAD][PAD][PAD][PAD][PAD][PAD][PAD]\n",
      "\n",
      "======[sample 7-4]======\n",
      "[PAD][PAD][PAD][PAD][PAD][PAD][PAD][PAD][PAD][PAD][PAD][PAD][PAD][PAD][PAD][PAD][PAD][PAD][PAD][PAD][PAD][PAD][PAD][PAD][PAD][PAD][PAD][PAD][PAD][PAD][PAD][PAD][PAD][PAD][PAD][PAD][PAD][PAD][PAD][PAD][PAD][PAD][PAD][PAD][PAD][PAD][PAD][PAD][PAD][PAD][PAD][PAD][PAD][PAD][PAD][PAD][PAD][PAD][PAD][PAD][PAD][PAD][PAD][PAD][PAD][PAD][PAD][PAD][PAD][PAD][PAD][PAD][PAD][PAD][PAD][PAD][PAD][PAD][PAD][PAD][PAD][PAD][PAD][PAD][PAD][PAD][PAD][PAD][PAD][PAD][PAD][PAD][PAD][PAD][PAD][PAD][PAD][PAD][PAD][PAD][PAD][PAD][PAD][PAD][PAD][PAD][PAD][PAD][PAD][PAD][PAD][PAD][PAD][PAD][PAD][PAD][PAD][PAD][PAD][PAD][PAD][PAD][PAD][PAD][PAD][PAD][PAD][PAD][PAD][PAD][PAD][PAD][PAD][PAD][PAD][PAD][PAD][PAD][PAD][PAD][PAD][PAD][PAD][PAD][PAD][PAD][PAD][PAD][PAD][PAD][PAD][PAD][PAD][PAD][PAD][PAD][PAD][PAD][PAD][PAD][PAD][PAD][PAD][PAD][PAD][PAD][PAD][PAD][PAD][PAD][PAD][PAD][PAD][PAD][PAD][PAD][PAD][PAD][PAD][PAD][PAD][PAD][PAD][PAD][PAD][PAD][PAD][PAD][PAD][PAD][PAD][PAD][PAD][PAD][PAD][PAD][PAD][PAD][PAD][PAD][PAD][PAD][PAD][PAD][PAD][PAD][PAD][PAD][PAD][PAD][PAD][PAD][PAD][PAD][PAD][PAD][PAD][PAD][PAD][PAD][PAD][PAD][PAD][PAD][PAD][PAD][PAD][PAD][PAD][PAD][PAD][PAD][PAD][PAD][PAD][PAD][PAD][PAD][PAD][PAD][PAD][PAD][PAD][PAD][PAD][PAD][PAD][PAD][PAD][PAD][PAD][PAD][PAD][PAD][PAD][PAD][PAD]\n",
      "\n",
      "======[sample 7-5]======\n",
      "[PAD][PAD][PAD][PAD][PAD][PAD][PAD][PAD][PAD][PAD][PAD][PAD][PAD][PAD][PAD][PAD][PAD][PAD][PAD][PAD][PAD][PAD][PAD][PAD][PAD][PAD][PAD][PAD][PAD][PAD][PAD][PAD][PAD][PAD][PAD][PAD][PAD][PAD][PAD][PAD][PAD][PAD][PAD][PAD][PAD][PAD][PAD][PAD][PAD][PAD][PAD][PAD][PAD][PAD][PAD][PAD][PAD][PAD][PAD][PAD][PAD][PAD][PAD][PAD][PAD][PAD][PAD][PAD][PAD][PAD][PAD][PAD][PAD][PAD][PAD][PAD][PAD][PAD][PAD][PAD][PAD][PAD][PAD][PAD][PAD][PAD][PAD][PAD][PAD][PAD][PAD][PAD][PAD][PAD][PAD][PAD][PAD][PAD][PAD][PAD][PAD][PAD][PAD][PAD][PAD][PAD][PAD][PAD][PAD][PAD][PAD][PAD][PAD][PAD][PAD][PAD][PAD][PAD][PAD][PAD][PAD][PAD][PAD][PAD][PAD][PAD][PAD][PAD][PAD][PAD][PAD][PAD][PAD][PAD][PAD][PAD][PAD][PAD][PAD][PAD][PAD][PAD][PAD][PAD][PAD][PAD][PAD][PAD][PAD][PAD][PAD][PAD][PAD][PAD][PAD][PAD][PAD][PAD][PAD][PAD][PAD][PAD][PAD][PAD][PAD][PAD][PAD][PAD][PAD][PAD][PAD][PAD][PAD][PAD][PAD][PAD][PAD][PAD][PAD][PAD][PAD][PAD][PAD][PAD][PAD][PAD][PAD][PAD][PAD][PAD][PAD][PAD][PAD][PAD][PAD][PAD][PAD][PAD][PAD][PAD][PAD][PAD][PAD][PAD][PAD][PAD][PAD][PAD][PAD][PAD][PAD][PAD][PAD][PAD][PAD][PAD][PAD][PAD][PAD][PAD][PAD][PAD][PAD][PAD][PAD][PAD][PAD][PAD][PAD][PAD][PAD][PAD][PAD][PAD][PAD][PAD][PAD][PAD][PAD][PAD][PAD][PAD][PAD][PAD][PAD][PAD][PAD][PAD][PAD][PAD][PAD][PAD][PAD][PAD][PAD][PAD][PAD]\n",
      "\n",
      "======[sample 8-1]======\n",
      "[PAD][PAD][PAD][PAD][PAD][PAD][PAD][PAD][PAD][PAD][PAD][PAD][PAD][PAD][PAD][PAD][PAD][PAD][PAD][PAD][PAD][PAD][PAD][PAD][PAD][PAD][PAD][PAD][PAD][PAD][PAD][PAD][PAD][PAD][PAD][PAD][PAD][PAD][PAD][PAD][PAD][PAD][PAD][PAD][PAD][PAD][PAD][PAD][PAD][PAD][PAD][PAD][PAD][PAD][PAD][PAD][PAD][PAD][PAD][PAD][PAD][PAD][PAD][PAD][PAD][PAD][PAD][PAD][PAD][PAD][PAD][PAD][PAD][PAD][PAD][PAD][PAD][PAD][PAD][PAD][PAD][PAD][PAD][PAD][PAD][PAD][PAD][PAD][PAD][PAD][PAD][PAD][PAD][PAD][PAD][PAD][PAD][PAD][PAD][PAD][PAD][PAD][PAD][PAD][PAD][PAD][PAD][PAD][PAD][PAD][PAD][PAD][PAD][PAD][PAD][PAD][PAD][PAD][PAD][PAD][PAD][PAD][PAD][PAD][PAD][PAD][PAD][PAD][PAD][PAD][PAD][PAD][PAD][PAD][PAD][PAD][PAD][PAD][PAD][PAD][PAD][PAD][PAD][PAD][PAD][PAD][PAD][PAD][PAD][PAD][PAD][PAD][PAD][PAD][PAD][PAD][PAD][PAD][PAD][PAD][PAD][PAD][PAD][PAD][PAD][PAD][PAD][PAD][PAD][PAD][PAD][PAD][PAD][PAD][PAD][PAD][PAD][PAD][PAD][PAD][PAD][PAD][PAD][PAD][PAD][PAD][PAD][PAD][PAD][PAD][PAD][PAD][PAD][PAD][PAD][PAD][PAD][PAD][PAD][PAD][PAD][PAD][PAD][PAD][PAD][PAD][PAD][PAD][PAD][PAD][PAD][PAD][PAD][PAD][PAD][PAD][PAD][PAD][PAD][PAD][PAD][PAD][PAD][PAD][PAD][PAD][PAD][PAD][PAD][PAD][PAD][PAD][PAD][PAD][PAD][PAD][PAD][PAD][PAD][PAD][PAD][PAD][PAD][PAD][PAD][PAD][PAD][PAD][PAD][PAD][PAD][PAD][PAD][PAD][PAD][PAD][PAD]\n",
      "\n",
      "======[sample 8-2]======\n",
      "[PAD][PAD][PAD][PAD][PAD][PAD][PAD][PAD][PAD][PAD][PAD][PAD][PAD][PAD][PAD][PAD][PAD][PAD][PAD][PAD][PAD][PAD][PAD][PAD][PAD][PAD][PAD][PAD][PAD][PAD][PAD][PAD][PAD][PAD][PAD][PAD][PAD][PAD][PAD][PAD][PAD][PAD][PAD][PAD][PAD][PAD][PAD][PAD][PAD][PAD][PAD][PAD][PAD][PAD][PAD][PAD][PAD][PAD][PAD][PAD][PAD][PAD][PAD][PAD][PAD][PAD][PAD][PAD][PAD][PAD][PAD][PAD][PAD][PAD][PAD][PAD][PAD][PAD][PAD][PAD][PAD][PAD][PAD][PAD][PAD][PAD][PAD][PAD][PAD][PAD][PAD][PAD][PAD][PAD][PAD][PAD][PAD][PAD][PAD][PAD][PAD][PAD][PAD][PAD][PAD][PAD][PAD][PAD][PAD][PAD][PAD][PAD][PAD][PAD][PAD][PAD][PAD][PAD][PAD][PAD][PAD][PAD][PAD][PAD][PAD][PAD][PAD][PAD][PAD][PAD][PAD][PAD][PAD][PAD][PAD][PAD][PAD][PAD][PAD][PAD][PAD][PAD][PAD][PAD][PAD][PAD][PAD][PAD][PAD][PAD][PAD][PAD][PAD][PAD][PAD][PAD][PAD][PAD][PAD][PAD][PAD][PAD][PAD][PAD][PAD][PAD][PAD][PAD][PAD][PAD][PAD][PAD][PAD][PAD][PAD][PAD][PAD][PAD][PAD][PAD][PAD][PAD][PAD][PAD][PAD][PAD][PAD][PAD][PAD][PAD][PAD][PAD][PAD][PAD][PAD][PAD][PAD][PAD][PAD][PAD][PAD][PAD][PAD][PAD][PAD][PAD][PAD][PAD][PAD][PAD][PAD][PAD][PAD][PAD][PAD][PAD][PAD][PAD][PAD][PAD][PAD][PAD][PAD][PAD][PAD][PAD][PAD][PAD][PAD][PAD][PAD][PAD][PAD][PAD][PAD][PAD][PAD][PAD][PAD][PAD][PAD][PAD][PAD][PAD][PAD][PAD][PAD][PAD][PAD][PAD][PAD][PAD][PAD][PAD][PAD][PAD][PAD]\n",
      "\n",
      "======[sample 8-3]======\n",
      "[PAD][PAD][PAD][PAD][PAD][PAD][PAD][PAD][PAD][PAD][PAD][PAD][PAD][PAD][PAD][PAD][PAD][PAD][PAD][PAD][PAD][PAD][PAD][PAD][PAD][PAD][PAD][PAD][PAD][PAD][PAD][PAD][PAD][PAD][PAD][PAD][PAD][PAD][PAD][PAD][PAD][PAD][PAD][PAD][PAD][PAD][PAD][PAD][PAD][PAD][PAD][PAD][PAD][PAD][PAD][PAD][PAD][PAD][PAD][PAD][PAD][PAD][PAD][PAD][PAD][PAD][PAD][PAD][PAD][PAD][PAD][PAD][PAD][PAD][PAD][PAD][PAD][PAD][PAD][PAD][PAD][PAD][PAD][PAD][PAD][PAD][PAD][PAD][PAD][PAD][PAD][PAD][PAD][PAD][PAD][PAD][PAD][PAD][PAD][PAD][PAD][PAD][PAD][PAD][PAD][PAD][PAD][PAD][PAD][PAD][PAD][PAD][PAD][PAD][PAD][PAD][PAD][PAD][PAD][PAD][PAD][PAD][PAD][PAD][PAD][PAD][PAD][PAD][PAD][PAD][PAD][PAD][PAD][PAD][PAD][PAD][PAD][PAD][PAD][PAD][PAD][PAD][PAD][PAD][PAD][PAD][PAD][PAD][PAD][PAD][PAD][PAD][PAD][PAD][PAD][PAD][PAD][PAD][PAD][PAD][PAD][PAD][PAD][PAD][PAD][PAD][PAD][PAD][PAD][PAD][PAD][PAD][PAD][PAD][PAD][PAD][PAD][PAD][PAD][PAD][PAD][PAD][PAD][PAD][PAD][PAD][PAD][PAD][PAD][PAD][PAD][PAD][PAD][PAD][PAD][PAD][PAD][PAD][PAD][PAD][PAD][PAD][PAD][PAD][PAD][PAD][PAD][PAD][PAD][PAD][PAD][PAD][PAD][PAD][PAD][PAD][PAD][PAD][PAD][PAD][PAD][PAD][PAD][PAD][PAD][PAD][PAD][PAD][PAD][PAD][PAD][PAD][PAD][PAD][PAD][PAD][PAD][PAD][PAD][PAD][PAD][PAD][PAD][PAD][PAD][PAD][PAD][PAD][PAD][PAD][PAD][PAD][PAD][PAD][PAD][PAD][PAD]\n",
      "\n",
      "======[sample 8-4]======\n",
      "[PAD][PAD][PAD][PAD][PAD][PAD][PAD][PAD][PAD][PAD][PAD][PAD][PAD][PAD][PAD][PAD][PAD][PAD][PAD][PAD][PAD][PAD][PAD][PAD][PAD][PAD][PAD][PAD][PAD][PAD][PAD][PAD][PAD][PAD][PAD][PAD][PAD][PAD][PAD][PAD][PAD][PAD][PAD][PAD][PAD][PAD][PAD][PAD][PAD][PAD][PAD][PAD][PAD][PAD][PAD][PAD][PAD][PAD][PAD][PAD][PAD][PAD][PAD][PAD][PAD][PAD][PAD][PAD][PAD][PAD][PAD][PAD][PAD][PAD][PAD][PAD][PAD][PAD][PAD][PAD][PAD][PAD][PAD][PAD][PAD][PAD][PAD][PAD][PAD][PAD][PAD][PAD][PAD][PAD][PAD][PAD][PAD][PAD][PAD][PAD][PAD][PAD][PAD][PAD][PAD][PAD][PAD][PAD][PAD][PAD][PAD][PAD][PAD][PAD][PAD][PAD][PAD][PAD][PAD][PAD][PAD][PAD][PAD][PAD][PAD][PAD][PAD][PAD][PAD][PAD][PAD][PAD][PAD][PAD][PAD][PAD][PAD][PAD][PAD][PAD][PAD][PAD][PAD][PAD][PAD][PAD][PAD][PAD][PAD][PAD][PAD][PAD][PAD][PAD][PAD][PAD][PAD][PAD][PAD][PAD][PAD][PAD][PAD][PAD][PAD][PAD][PAD][PAD][PAD][PAD][PAD][PAD][PAD][PAD][PAD][PAD][PAD][PAD][PAD][PAD][PAD][PAD][PAD][PAD][PAD][PAD][PAD][PAD][PAD][PAD][PAD][PAD][PAD][PAD][PAD][PAD][PAD][PAD][PAD][PAD][PAD][PAD][PAD][PAD][PAD][PAD][PAD][PAD][PAD][PAD][PAD][PAD][PAD][PAD][PAD][PAD][PAD][PAD][PAD][PAD][PAD][PAD][PAD][PAD][PAD][PAD][PAD][PAD][PAD][PAD][PAD][PAD][PAD][PAD][PAD][PAD][PAD][PAD][PAD][PAD][PAD][PAD][PAD][PAD][PAD][PAD][PAD][PAD][PAD][PAD][PAD][PAD][PAD][PAD][PAD][PAD][PAD]\n",
      "\n",
      "======[sample 8-5]======\n",
      "[PAD][PAD][PAD][PAD][PAD][PAD][PAD][PAD][PAD][PAD][PAD][PAD][PAD][PAD][PAD][PAD][PAD][PAD][PAD][PAD][PAD][PAD][PAD][PAD][PAD][PAD][PAD][PAD][PAD][PAD][PAD][PAD][PAD][PAD][PAD][PAD][PAD][PAD][PAD][PAD][PAD][PAD][PAD][PAD][PAD][PAD][PAD][PAD][PAD][PAD][PAD][PAD][PAD][PAD][PAD][PAD][PAD][PAD][PAD][PAD][PAD][PAD][PAD][PAD][PAD][PAD][PAD][PAD][PAD][PAD][PAD][PAD][PAD][PAD][PAD][PAD][PAD][PAD][PAD][PAD][PAD][PAD][PAD][PAD][PAD][PAD][PAD][PAD][PAD][PAD][PAD][PAD][PAD][PAD][PAD][PAD][PAD][PAD][PAD][PAD][PAD][PAD][PAD][PAD][PAD][PAD][PAD][PAD][PAD][PAD][PAD][PAD][PAD][PAD][PAD][PAD][PAD][PAD][PAD][PAD][PAD][PAD][PAD][PAD][PAD][PAD][PAD][PAD][PAD][PAD][PAD][PAD][PAD][PAD][PAD][PAD][PAD][PAD][PAD][PAD][PAD][PAD][PAD][PAD][PAD][PAD][PAD][PAD][PAD][PAD][PAD][PAD][PAD][PAD][PAD][PAD][PAD][PAD][PAD][PAD][PAD][PAD][PAD][PAD][PAD][PAD][PAD][PAD][PAD][PAD][PAD][PAD][PAD][PAD][PAD][PAD][PAD][PAD][PAD][PAD][PAD][PAD][PAD][PAD][PAD][PAD][PAD][PAD][PAD][PAD][PAD][PAD][PAD][PAD][PAD][PAD][PAD][PAD][PAD][PAD][PAD][PAD][PAD][PAD][PAD][PAD][PAD][PAD][PAD][PAD][PAD][PAD][PAD][PAD][PAD][PAD][PAD][PAD][PAD][PAD][PAD][PAD][PAD][PAD][PAD][PAD][PAD][PAD][PAD][PAD][PAD][PAD][PAD][PAD][PAD][PAD][PAD][PAD][PAD][PAD][PAD][PAD][PAD][PAD][PAD][PAD][PAD][PAD][PAD][PAD][PAD][PAD][PAD][PAD][PAD][PAD][PAD]\n",
      "\n",
      "======[sample 9-1]======\n",
      "[PAD][PAD][PAD][PAD][PAD][PAD][PAD][PAD][PAD][PAD][PAD][PAD][PAD][PAD][PAD][PAD][PAD][PAD][PAD][PAD][PAD][PAD][PAD][PAD][PAD][PAD][PAD][PAD][PAD][PAD][PAD][PAD][PAD][PAD][PAD][PAD][PAD][PAD][PAD][PAD][PAD][PAD][PAD][PAD][PAD][PAD][PAD][PAD][PAD][PAD][PAD][PAD][PAD][PAD][PAD][PAD][PAD][PAD][PAD][PAD][PAD][PAD][PAD][PAD][PAD][PAD][PAD][PAD][PAD][PAD][PAD][PAD][PAD][PAD][PAD][PAD][PAD][PAD][PAD][PAD][PAD][PAD][PAD][PAD][PAD][PAD][PAD][PAD][PAD][PAD][PAD][PAD][PAD][PAD][PAD][PAD][PAD][PAD][PAD][PAD][PAD][PAD][PAD][PAD][PAD][PAD][PAD][PAD][PAD][PAD][PAD][PAD][PAD][PAD][PAD][PAD][PAD][PAD][PAD][PAD][PAD][PAD][PAD][PAD][PAD][PAD][PAD][PAD][PAD][PAD][PAD][PAD][PAD][PAD][PAD][PAD][PAD][PAD][PAD][PAD][PAD][PAD][PAD][PAD][PAD][PAD][PAD][PAD][PAD][PAD][PAD][PAD][PAD][PAD][PAD][PAD][PAD][PAD][PAD][PAD][PAD][PAD][PAD][PAD][PAD][PAD][PAD][PAD][PAD][PAD][PAD][PAD][PAD][PAD][PAD][PAD][PAD][PAD][PAD][PAD][PAD][PAD][PAD][PAD][PAD][PAD][PAD][PAD][PAD][PAD][PAD][PAD][PAD][PAD][PAD][PAD][PAD][PAD][PAD][PAD][PAD][PAD][PAD][PAD][PAD][PAD][PAD][PAD][PAD][PAD][PAD][PAD][PAD][PAD][PAD][PAD][PAD][PAD][PAD][PAD][PAD][PAD][PAD][PAD][PAD][PAD][PAD][PAD][PAD][PAD][PAD][PAD][PAD][PAD][PAD][PAD][PAD][PAD][PAD][PAD][PAD][PAD][PAD][PAD][PAD][PAD][PAD][PAD][PAD][PAD][PAD][PAD][PAD][PAD][PAD][PAD][PAD]\n",
      "\n",
      "======[sample 9-2]======\n",
      "[PAD][PAD][PAD][PAD][PAD][PAD][PAD][PAD][PAD][PAD][PAD][PAD][PAD][PAD][PAD][PAD][PAD][PAD][PAD][PAD][PAD][PAD][PAD][PAD][PAD][PAD][PAD][PAD][PAD][PAD][PAD][PAD][PAD][PAD][PAD][PAD][PAD][PAD][PAD][PAD][PAD][PAD][PAD][PAD][PAD][PAD][PAD][PAD][PAD][PAD][PAD][PAD][PAD][PAD][PAD][PAD][PAD][PAD][PAD][PAD][PAD][PAD][PAD][PAD][PAD][PAD][PAD][PAD][PAD][PAD][PAD][PAD][PAD][PAD][PAD][PAD][PAD][PAD][PAD][PAD][PAD][PAD][PAD][PAD][PAD][PAD][PAD][PAD][PAD][PAD][PAD][PAD][PAD][PAD][PAD][PAD][PAD][PAD][PAD][PAD][PAD][PAD][PAD][PAD][PAD][PAD][PAD][PAD][PAD][PAD][PAD][PAD][PAD][PAD][PAD][PAD][PAD][PAD][PAD][PAD][PAD][PAD][PAD][PAD][PAD][PAD][PAD][PAD][PAD][PAD][PAD][PAD][PAD][PAD][PAD][PAD][PAD][PAD][PAD][PAD][PAD][PAD][PAD][PAD][PAD][PAD][PAD][PAD][PAD][PAD][PAD][PAD][PAD][PAD][PAD][PAD][PAD][PAD][PAD][PAD][PAD][PAD][PAD][PAD][PAD][PAD][PAD][PAD][PAD][PAD][PAD][PAD][PAD][PAD][PAD][PAD][PAD][PAD][PAD][PAD][PAD][PAD][PAD][PAD][PAD][PAD][PAD][PAD][PAD][PAD][PAD][PAD][PAD][PAD][PAD][PAD][PAD][PAD][PAD][PAD][PAD][PAD][PAD][PAD][PAD][PAD][PAD][PAD][PAD][PAD][PAD][PAD][PAD][PAD][PAD][PAD][PAD][PAD][PAD][PAD][PAD][PAD][PAD][PAD][PAD][PAD][PAD][PAD][PAD][PAD][PAD][PAD][PAD][PAD][PAD][PAD][PAD][PAD][PAD][PAD][PAD][PAD][PAD][PAD][PAD][PAD][PAD][PAD][PAD][PAD][PAD][PAD][PAD][PAD][PAD][PAD][PAD]\n",
      "\n",
      "======[sample 9-3]======\n",
      "[PAD][PAD][PAD][PAD][PAD][PAD][PAD][PAD][PAD][PAD][PAD][PAD][PAD][PAD][PAD][PAD][PAD][PAD][PAD][PAD][PAD][PAD][PAD][PAD][PAD][PAD][PAD][PAD][PAD][PAD][PAD][PAD][PAD][PAD][PAD][PAD][PAD][PAD][PAD][PAD][PAD][PAD][PAD][PAD][PAD][PAD][PAD][PAD][PAD][PAD][PAD][PAD][PAD][PAD][PAD][PAD][PAD][PAD][PAD][PAD][PAD][PAD][PAD][PAD][PAD][PAD][PAD][PAD][PAD][PAD][PAD][PAD][PAD][PAD][PAD][PAD][PAD][PAD][PAD][PAD][PAD][PAD][PAD][PAD][PAD][PAD][PAD][PAD][PAD][PAD][PAD][PAD][PAD][PAD][PAD][PAD][PAD][PAD][PAD][PAD][PAD][PAD][PAD][PAD][PAD][PAD][PAD][PAD][PAD][PAD][PAD][PAD][PAD][PAD][PAD][PAD][PAD][PAD][PAD][PAD][PAD][PAD][PAD][PAD][PAD][PAD][PAD][PAD][PAD][PAD][PAD][PAD][PAD][PAD][PAD][PAD][PAD][PAD][PAD][PAD][PAD][PAD][PAD][PAD][PAD][PAD][PAD][PAD][PAD][PAD][PAD][PAD][PAD][PAD][PAD][PAD][PAD][PAD][PAD][PAD][PAD][PAD][PAD][PAD][PAD][PAD][PAD][PAD][PAD][PAD][PAD][PAD][PAD][PAD][PAD][PAD][PAD][PAD][PAD][PAD][PAD][PAD][PAD][PAD][PAD][PAD][PAD][PAD][PAD][PAD][PAD][PAD][PAD][PAD][PAD][PAD][PAD][PAD][PAD][PAD][PAD][PAD][PAD][PAD][PAD][PAD][PAD][PAD][PAD][PAD][PAD][PAD][PAD][PAD][PAD][PAD][PAD][PAD][PAD][PAD][PAD][PAD][PAD][PAD][PAD][PAD][PAD][PAD][PAD][PAD][PAD][PAD][PAD][PAD][PAD][PAD][PAD][PAD][PAD][PAD][PAD][PAD][PAD][PAD][PAD][PAD][PAD][PAD][PAD][PAD][PAD][PAD][PAD][PAD][PAD][PAD][PAD]\n",
      "\n",
      "======[sample 9-4]======\n",
      "[PAD][PAD][PAD][PAD][PAD][PAD][PAD][PAD][PAD][PAD][PAD][PAD][PAD][PAD][PAD][PAD][PAD][PAD][PAD][PAD][PAD][PAD][PAD][PAD][PAD][PAD][PAD][PAD][PAD][PAD][PAD][PAD][PAD][PAD][PAD][PAD][PAD][PAD][PAD][PAD][PAD][PAD][PAD][PAD][PAD][PAD][PAD][PAD][PAD][PAD][PAD][PAD][PAD][PAD][PAD][PAD][PAD][PAD][PAD][PAD][PAD][PAD][PAD][PAD][PAD][PAD][PAD][PAD][PAD][PAD][PAD][PAD][PAD][PAD][PAD][PAD][PAD][PAD][PAD][PAD][PAD][PAD][PAD][PAD][PAD][PAD][PAD][PAD][PAD][PAD][PAD][PAD][PAD][PAD][PAD][PAD][PAD][PAD][PAD][PAD][PAD][PAD][PAD][PAD][PAD][PAD][PAD][PAD][PAD][PAD][PAD][PAD][PAD][PAD][PAD][PAD][PAD][PAD][PAD][PAD][PAD][PAD][PAD][PAD][PAD][PAD][PAD][PAD][PAD][PAD][PAD][PAD][PAD][PAD][PAD][PAD][PAD][PAD][PAD][PAD][PAD][PAD][PAD][PAD][PAD][PAD][PAD][PAD][PAD][PAD][PAD][PAD][PAD][PAD][PAD][PAD][PAD][PAD][PAD][PAD][PAD][PAD][PAD][PAD][PAD][PAD][PAD][PAD][PAD][PAD][PAD][PAD][PAD][PAD][PAD][PAD][PAD][PAD][PAD][PAD][PAD][PAD][PAD][PAD][PAD][PAD][PAD][PAD][PAD][PAD][PAD][PAD][PAD][PAD][PAD][PAD][PAD][PAD][PAD][PAD][PAD][PAD][PAD][PAD][PAD][PAD][PAD][PAD][PAD][PAD][PAD][PAD][PAD][PAD][PAD][PAD][PAD][PAD][PAD][PAD][PAD][PAD][PAD][PAD][PAD][PAD][PAD][PAD][PAD][PAD][PAD][PAD][PAD][PAD][PAD][PAD][PAD][PAD][PAD][PAD][PAD][PAD][PAD][PAD][PAD][PAD][PAD][PAD][PAD][PAD][PAD][PAD][PAD][PAD][PAD][PAD][PAD]\n",
      "\n",
      "======[sample 9-5]======\n",
      "[PAD][PAD][PAD][PAD][PAD][PAD][PAD][PAD][PAD][PAD][PAD][PAD][PAD][PAD][PAD][PAD][PAD][PAD][PAD][PAD][PAD][PAD][PAD][PAD][PAD][PAD][PAD][PAD][PAD][PAD][PAD][PAD][PAD][PAD][PAD][PAD][PAD][PAD][PAD][PAD][PAD][PAD][PAD][PAD][PAD][PAD][PAD][PAD][PAD][PAD][PAD][PAD][PAD][PAD][PAD][PAD][PAD][PAD][PAD][PAD][PAD][PAD][PAD][PAD][PAD][PAD][PAD][PAD][PAD][PAD][PAD][PAD][PAD][PAD][PAD][PAD][PAD][PAD][PAD][PAD][PAD][PAD][PAD][PAD][PAD][PAD][PAD][PAD][PAD][PAD][PAD][PAD][PAD][PAD][PAD][PAD][PAD][PAD][PAD][PAD][PAD][PAD][PAD][PAD][PAD][PAD][PAD][PAD][PAD][PAD][PAD][PAD][PAD][PAD][PAD][PAD][PAD][PAD][PAD][PAD][PAD][PAD][PAD][PAD][PAD][PAD][PAD][PAD][PAD][PAD][PAD][PAD][PAD][PAD][PAD][PAD][PAD][PAD][PAD][PAD][PAD][PAD][PAD][PAD][PAD][PAD][PAD][PAD][PAD][PAD][PAD][PAD][PAD][PAD][PAD][PAD][PAD][PAD][PAD][PAD][PAD][PAD][PAD][PAD][PAD][PAD][PAD][PAD][PAD][PAD][PAD][PAD][PAD][PAD][PAD][PAD][PAD][PAD][PAD][PAD][PAD][PAD][PAD][PAD][PAD][PAD][PAD][PAD][PAD][PAD][PAD][PAD][PAD][PAD][PAD][PAD][PAD][PAD][PAD][PAD][PAD][PAD][PAD][PAD][PAD][PAD][PAD][PAD][PAD][PAD][PAD][PAD][PAD][PAD][PAD][PAD][PAD][PAD][PAD][PAD][PAD][PAD][PAD][PAD][PAD][PAD][PAD][PAD][PAD][PAD][PAD][PAD][PAD][PAD][PAD][PAD][PAD][PAD][PAD][PAD][PAD][PAD][PAD][PAD][PAD][PAD][PAD][PAD][PAD][PAD][PAD][PAD][PAD][PAD][PAD][PAD][PAD]\n",
      "\n"
     ]
    }
   ],
   "source": [
    "for i, sample in enumerate(samples):\n",
    "    print(\"======[sample {}-{}]======\\n{}\\n\".format(i//5+1, i%5+1, refine_punc(sample)))"
   ]
  },
  {
   "cell_type": "code",
   "execution_count": 10,
   "metadata": {},
   "outputs": [
    {
     "name": "stdout",
     "output_type": "stream",
     "text": [
      "(45, 2)\n"
     ]
    },
    {
     "data": {
      "text/html": [
       "<div>\n",
       "<style scoped>\n",
       "    .dataframe tbody tr th:only-of-type {\n",
       "        vertical-align: middle;\n",
       "    }\n",
       "\n",
       "    .dataframe tbody tr th {\n",
       "        vertical-align: top;\n",
       "    }\n",
       "\n",
       "    .dataframe thead th {\n",
       "        text-align: right;\n",
       "    }\n",
       "</style>\n",
       "<table border=\"1\" class=\"dataframe\">\n",
       "  <thead>\n",
       "    <tr style=\"text-align: right;\">\n",
       "      <th></th>\n",
       "      <th>#</th>\n",
       "      <th>text</th>\n",
       "    </tr>\n",
       "  </thead>\n",
       "  <tbody>\n",
       "    <tr>\n",
       "      <th>35</th>\n",
       "      <td>8-1</td>\n",
       "      <td>[PAD][PAD][PAD][PAD][PAD][PAD][PAD][PAD][PAD][...</td>\n",
       "    </tr>\n",
       "    <tr>\n",
       "      <th>36</th>\n",
       "      <td>8-2</td>\n",
       "      <td>[PAD][PAD][PAD][PAD][PAD][PAD][PAD][PAD][PAD][...</td>\n",
       "    </tr>\n",
       "    <tr>\n",
       "      <th>37</th>\n",
       "      <td>8-3</td>\n",
       "      <td>[PAD][PAD][PAD][PAD][PAD][PAD][PAD][PAD][PAD][...</td>\n",
       "    </tr>\n",
       "    <tr>\n",
       "      <th>38</th>\n",
       "      <td>8-4</td>\n",
       "      <td>[PAD][PAD][PAD][PAD][PAD][PAD][PAD][PAD][PAD][...</td>\n",
       "    </tr>\n",
       "    <tr>\n",
       "      <th>39</th>\n",
       "      <td>8-5</td>\n",
       "      <td>[PAD][PAD][PAD][PAD][PAD][PAD][PAD][PAD][PAD][...</td>\n",
       "    </tr>\n",
       "    <tr>\n",
       "      <th>40</th>\n",
       "      <td>9-1</td>\n",
       "      <td>[PAD][PAD][PAD][PAD][PAD][PAD][PAD][PAD][PAD][...</td>\n",
       "    </tr>\n",
       "    <tr>\n",
       "      <th>41</th>\n",
       "      <td>9-2</td>\n",
       "      <td>[PAD][PAD][PAD][PAD][PAD][PAD][PAD][PAD][PAD][...</td>\n",
       "    </tr>\n",
       "    <tr>\n",
       "      <th>42</th>\n",
       "      <td>9-3</td>\n",
       "      <td>[PAD][PAD][PAD][PAD][PAD][PAD][PAD][PAD][PAD][...</td>\n",
       "    </tr>\n",
       "    <tr>\n",
       "      <th>43</th>\n",
       "      <td>9-4</td>\n",
       "      <td>[PAD][PAD][PAD][PAD][PAD][PAD][PAD][PAD][PAD][...</td>\n",
       "    </tr>\n",
       "    <tr>\n",
       "      <th>44</th>\n",
       "      <td>9-5</td>\n",
       "      <td>[PAD][PAD][PAD][PAD][PAD][PAD][PAD][PAD][PAD][...</td>\n",
       "    </tr>\n",
       "  </tbody>\n",
       "</table>\n",
       "</div>"
      ],
      "text/plain": [
       "      #                                               text\n",
       "35  8-1  [PAD][PAD][PAD][PAD][PAD][PAD][PAD][PAD][PAD][...\n",
       "36  8-2  [PAD][PAD][PAD][PAD][PAD][PAD][PAD][PAD][PAD][...\n",
       "37  8-3  [PAD][PAD][PAD][PAD][PAD][PAD][PAD][PAD][PAD][...\n",
       "38  8-4  [PAD][PAD][PAD][PAD][PAD][PAD][PAD][PAD][PAD][...\n",
       "39  8-5  [PAD][PAD][PAD][PAD][PAD][PAD][PAD][PAD][PAD][...\n",
       "40  9-1  [PAD][PAD][PAD][PAD][PAD][PAD][PAD][PAD][PAD][...\n",
       "41  9-2  [PAD][PAD][PAD][PAD][PAD][PAD][PAD][PAD][PAD][...\n",
       "42  9-3  [PAD][PAD][PAD][PAD][PAD][PAD][PAD][PAD][PAD][...\n",
       "43  9-4  [PAD][PAD][PAD][PAD][PAD][PAD][PAD][PAD][PAD][...\n",
       "44  9-5  [PAD][PAD][PAD][PAD][PAD][PAD][PAD][PAD][PAD][..."
      ]
     },
     "execution_count": 10,
     "metadata": {},
     "output_type": "execute_result"
    }
   ],
   "source": [
    "import pandas as pd\n",
    "\n",
    "sample_plain = [refine_punc(i) for i in samples]\n",
    "sample_plain = [[\"{}-{}\".format(i//5+1, i%5+1), text] for i, text in enumerate(sample_plain)]\n",
    "sample_df = pd.DataFrame(sample_plain, columns=['#', 'text'])\n",
    "print(sample_df.shape)\n",
    "sample_df.tail(10)"
   ]
  },
  {
   "cell_type": "markdown",
   "metadata": {},
   "source": [
    "- 발산해버림. learning_rate 손 볼 필요 있을듯"
   ]
  }
 ],
 "metadata": {
  "kernelspec": {
   "display_name": "Python 3",
   "language": "python",
   "name": "python3"
  },
  "language_info": {
   "codemirror_mode": {
    "name": "ipython",
    "version": 3
   },
   "file_extension": ".py",
   "mimetype": "text/x-python",
   "name": "python",
   "nbconvert_exporter": "python",
   "pygments_lexer": "ipython3",
   "version": "3.7.0"
  }
 },
 "nbformat": 4,
 "nbformat_minor": 2
}
